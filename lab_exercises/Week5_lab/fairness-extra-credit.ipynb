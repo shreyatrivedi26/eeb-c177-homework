{
 "cells": [
  {
   "cell_type": "markdown",
   "metadata": {},
   "source": [
    "### 1. Using python, read the file and extract the names of the countries involved in the experiment."
   ]
  },
  {
   "cell_type": "code",
   "execution_count": 14,
   "metadata": {},
   "outputs": [
    {
     "data": {
      "text/html": [
       "<div>\n",
       "<style scoped>\n",
       "    .dataframe tbody tr th:only-of-type {\n",
       "        vertical-align: middle;\n",
       "    }\n",
       "\n",
       "    .dataframe tbody tr th {\n",
       "        vertical-align: top;\n",
       "    }\n",
       "\n",
       "    .dataframe thead th {\n",
       "        text-align: right;\n",
       "    }\n",
       "</style>\n",
       "<table border=\"1\" class=\"dataframe\">\n",
       "  <thead>\n",
       "    <tr style=\"text-align: right;\">\n",
       "      <th></th>\n",
       "      <th>condition</th>\n",
       "      <th>country</th>\n",
       "      <th>actor.id</th>\n",
       "      <th>actor.age.years</th>\n",
       "      <th>actor.gender</th>\n",
       "      <th>dist</th>\n",
       "      <th>eq.uneq</th>\n",
       "      <th>decision</th>\n",
       "      <th>value</th>\n",
       "      <th>trial</th>\n",
       "    </tr>\n",
       "  </thead>\n",
       "  <tbody>\n",
       "    <tr>\n",
       "      <th>0</th>\n",
       "      <td>condition</td>\n",
       "      <td>country</td>\n",
       "      <td>actor.id</td>\n",
       "      <td>actor.age.years</td>\n",
       "      <td>actor.gender</td>\n",
       "      <td>dist</td>\n",
       "      <td>eq.uneq</td>\n",
       "      <td>decision</td>\n",
       "      <td>value</td>\n",
       "      <td>trial</td>\n",
       "    </tr>\n",
       "    <tr>\n",
       "      <th>1</th>\n",
       "      <td>DI</td>\n",
       "      <td>Uganda</td>\n",
       "      <td>uganda.actor.1</td>\n",
       "      <td>7</td>\n",
       "      <td>F</td>\n",
       "      <td>t1.dist</td>\n",
       "      <td>U</td>\n",
       "      <td>accept</td>\n",
       "      <td>low</td>\n",
       "      <td>t1</td>\n",
       "    </tr>\n",
       "    <tr>\n",
       "      <th>2</th>\n",
       "      <td>AI</td>\n",
       "      <td>Uganda</td>\n",
       "      <td>uganda.actor.2</td>\n",
       "      <td>8</td>\n",
       "      <td>M</td>\n",
       "      <td>t1.dist</td>\n",
       "      <td>U</td>\n",
       "      <td>accept</td>\n",
       "      <td>low</td>\n",
       "      <td>t1</td>\n",
       "    </tr>\n",
       "    <tr>\n",
       "      <th>3</th>\n",
       "      <td>AI</td>\n",
       "      <td>Uganda</td>\n",
       "      <td>uganda.actor.3</td>\n",
       "      <td>8</td>\n",
       "      <td>M</td>\n",
       "      <td>t1.dist</td>\n",
       "      <td>E</td>\n",
       "      <td>accept</td>\n",
       "      <td>low</td>\n",
       "      <td>t1</td>\n",
       "    </tr>\n",
       "    <tr>\n",
       "      <th>4</th>\n",
       "      <td>AI</td>\n",
       "      <td>Uganda</td>\n",
       "      <td>uganda.actor.4</td>\n",
       "      <td>9</td>\n",
       "      <td>M</td>\n",
       "      <td>t1.dist</td>\n",
       "      <td>U</td>\n",
       "      <td>accept</td>\n",
       "      <td>high</td>\n",
       "      <td>t1</td>\n",
       "    </tr>\n",
       "    <tr>\n",
       "      <th>...</th>\n",
       "      <td>...</td>\n",
       "      <td>...</td>\n",
       "      <td>...</td>\n",
       "      <td>...</td>\n",
       "      <td>...</td>\n",
       "      <td>...</td>\n",
       "      <td>...</td>\n",
       "      <td>...</td>\n",
       "      <td>...</td>\n",
       "      <td>...</td>\n",
       "    </tr>\n",
       "    <tr>\n",
       "      <th>13852</th>\n",
       "      <td>AI</td>\n",
       "      <td>Canada</td>\n",
       "      <td>canada.92</td>\n",
       "      <td>11</td>\n",
       "      <td>M</td>\n",
       "      <td>t16.dist</td>\n",
       "      <td>U</td>\n",
       "      <td>accept</td>\n",
       "      <td>low</td>\n",
       "      <td>t16</td>\n",
       "    </tr>\n",
       "    <tr>\n",
       "      <th>13853</th>\n",
       "      <td>AI</td>\n",
       "      <td>Canada</td>\n",
       "      <td>canada.93</td>\n",
       "      <td>10</td>\n",
       "      <td>M</td>\n",
       "      <td>t16.dist</td>\n",
       "      <td>U</td>\n",
       "      <td>accept</td>\n",
       "      <td>high</td>\n",
       "      <td>t16</td>\n",
       "    </tr>\n",
       "    <tr>\n",
       "      <th>13854</th>\n",
       "      <td>AI</td>\n",
       "      <td>Canada</td>\n",
       "      <td>canada.94</td>\n",
       "      <td>11</td>\n",
       "      <td>M</td>\n",
       "      <td>t16.dist</td>\n",
       "      <td>E</td>\n",
       "      <td>accept</td>\n",
       "      <td>low</td>\n",
       "      <td>t16</td>\n",
       "    </tr>\n",
       "    <tr>\n",
       "      <th>13855</th>\n",
       "      <td>DI</td>\n",
       "      <td>Canada</td>\n",
       "      <td>canada.95</td>\n",
       "      <td>8</td>\n",
       "      <td>F</td>\n",
       "      <td>t16.dist</td>\n",
       "      <td>E</td>\n",
       "      <td>accept</td>\n",
       "      <td>high</td>\n",
       "      <td>t16</td>\n",
       "    </tr>\n",
       "    <tr>\n",
       "      <th>13856</th>\n",
       "      <td>AI</td>\n",
       "      <td>Canada</td>\n",
       "      <td>canada.96</td>\n",
       "      <td>10</td>\n",
       "      <td>M</td>\n",
       "      <td>t16.dist</td>\n",
       "      <td>U</td>\n",
       "      <td>reject</td>\n",
       "      <td>high</td>\n",
       "      <td>t16</td>\n",
       "    </tr>\n",
       "  </tbody>\n",
       "</table>\n",
       "<p>13857 rows × 10 columns</p>\n",
       "</div>"
      ],
      "text/plain": [
       "       condition  country        actor.id  actor.age.years  actor.gender  \\\n",
       "0      condition  country        actor.id  actor.age.years  actor.gender   \n",
       "1             DI   Uganda  uganda.actor.1                7             F   \n",
       "2             AI   Uganda  uganda.actor.2                8             M   \n",
       "3             AI   Uganda  uganda.actor.3                8             M   \n",
       "4             AI   Uganda  uganda.actor.4                9             M   \n",
       "...          ...      ...             ...              ...           ...   \n",
       "13852         AI   Canada       canada.92               11             M   \n",
       "13853         AI   Canada       canada.93               10             M   \n",
       "13854         AI   Canada       canada.94               11             M   \n",
       "13855         DI   Canada       canada.95                8             F   \n",
       "13856         AI   Canada       canada.96               10             M   \n",
       "\n",
       "           dist  eq.uneq  decision  value  trial  \n",
       "0          dist  eq.uneq  decision  value  trial  \n",
       "1       t1.dist        U    accept    low     t1  \n",
       "2       t1.dist        U    accept    low     t1  \n",
       "3       t1.dist        E    accept    low     t1  \n",
       "4       t1.dist        U    accept   high     t1  \n",
       "...         ...      ...       ...    ...    ...  \n",
       "13852  t16.dist        U    accept    low    t16  \n",
       "13853  t16.dist        U    accept   high    t16  \n",
       "13854  t16.dist        E    accept    low    t16  \n",
       "13855  t16.dist        E    accept   high    t16  \n",
       "13856  t16.dist        U    reject   high    t16  \n",
       "\n",
       "[13857 rows x 10 columns]"
      ]
     },
     "execution_count": 14,
     "metadata": {},
     "output_type": "execute_result"
    }
   ],
   "source": [
    "import pandas as pd\n",
    "\n",
    "data_fairness = pd.read_csv(\"blake.csv\",delimiter=\",\", names = ['condition', 'country', 'actor.id', 'actor.age.years', 'actor.gender', 'dist','eq.uneq','decision','value','trial'])\n",
    "data_fairness"
   ]
  },
  {
   "cell_type": "code",
   "execution_count": 33,
   "metadata": {},
   "outputs": [
    {
     "name": "stdout",
     "output_type": "stream",
     "text": [
      "Countries:\n",
      "\n",
      " ['country', 'Uganda', 'Mexico', 'US', 'India', 'Senegal', 'Peru', 'Canada']\n"
     ]
    }
   ],
   "source": [
    "country_list=data_fairness['country'].unique()\n",
    "print(\"Countries:\\n\\n\",list(country_list))"
   ]
  },
  {
   "cell_type": "markdown",
   "metadata": {},
   "source": [
    "### 2. How many M, F for each country?"
   ]
  },
  {
   "cell_type": "code",
   "execution_count": 37,
   "metadata": {},
   "outputs": [
    {
     "ename": "KeyError",
     "evalue": "'actor.gender'",
     "output_type": "error",
     "traceback": [
      "\u001b[0;31m---------------------------------------------------------------------------\u001b[0m",
      "\u001b[0;31mKeyError\u001b[0m                                  Traceback (most recent call last)",
      "\u001b[0;32m<ipython-input-37-9afc173a0578>\u001b[0m in \u001b[0;36m<module>\u001b[0;34m\u001b[0m\n\u001b[1;32m      1\u001b[0m \u001b[0mcntry\u001b[0m\u001b[0;34m=\u001b[0m \u001b[0mdata_fairness\u001b[0m\u001b[0;34m.\u001b[0m\u001b[0mgroupby\u001b[0m\u001b[0;34m(\u001b[0m\u001b[0;34m'country'\u001b[0m\u001b[0;34m)\u001b[0m\u001b[0;34m\u001b[0m\u001b[0;34m\u001b[0m\u001b[0m\n\u001b[0;32m----> 2\u001b[0;31m \u001b[0mgender\u001b[0m \u001b[0;34m=\u001b[0m \u001b[0mcntry\u001b[0m\u001b[0;34m.\u001b[0m\u001b[0mget_group\u001b[0m\u001b[0;34m(\u001b[0m\u001b[0;34m'actor.gender'\u001b[0m\u001b[0;34m)\u001b[0m\u001b[0;34m\u001b[0m\u001b[0;34m\u001b[0m\u001b[0m\n\u001b[0m",
      "\u001b[0;32m~/anaconda3/lib/python3.7/site-packages/pandas/core/groupby/groupby.py\u001b[0m in \u001b[0;36mget_group\u001b[0;34m(self, name, obj)\u001b[0m\n\u001b[1;32m    678\u001b[0m         \u001b[0minds\u001b[0m \u001b[0;34m=\u001b[0m \u001b[0mself\u001b[0m\u001b[0;34m.\u001b[0m\u001b[0m_get_index\u001b[0m\u001b[0;34m(\u001b[0m\u001b[0mname\u001b[0m\u001b[0;34m)\u001b[0m\u001b[0;34m\u001b[0m\u001b[0;34m\u001b[0m\u001b[0m\n\u001b[1;32m    679\u001b[0m         \u001b[0;32mif\u001b[0m \u001b[0;32mnot\u001b[0m \u001b[0mlen\u001b[0m\u001b[0;34m(\u001b[0m\u001b[0minds\u001b[0m\u001b[0;34m)\u001b[0m\u001b[0;34m:\u001b[0m\u001b[0;34m\u001b[0m\u001b[0;34m\u001b[0m\u001b[0m\n\u001b[0;32m--> 680\u001b[0;31m             \u001b[0;32mraise\u001b[0m \u001b[0mKeyError\u001b[0m\u001b[0;34m(\u001b[0m\u001b[0mname\u001b[0m\u001b[0;34m)\u001b[0m\u001b[0;34m\u001b[0m\u001b[0;34m\u001b[0m\u001b[0m\n\u001b[0m\u001b[1;32m    681\u001b[0m \u001b[0;34m\u001b[0m\u001b[0m\n\u001b[1;32m    682\u001b[0m         \u001b[0;32mreturn\u001b[0m \u001b[0mobj\u001b[0m\u001b[0;34m.\u001b[0m\u001b[0mtake\u001b[0m\u001b[0;34m(\u001b[0m\u001b[0minds\u001b[0m\u001b[0;34m,\u001b[0m \u001b[0maxis\u001b[0m\u001b[0;34m=\u001b[0m\u001b[0mself\u001b[0m\u001b[0;34m.\u001b[0m\u001b[0maxis\u001b[0m\u001b[0;34m)\u001b[0m\u001b[0;34m\u001b[0m\u001b[0;34m\u001b[0m\u001b[0m\n",
      "\u001b[0;31mKeyError\u001b[0m: 'actor.gender'"
     ]
    }
   ],
   "source": [
    "cntry= data_fairness.groupby('country')\n",
    "gender = cntry.get_group('actor.gender')"
   ]
  },
  {
   "cell_type": "code",
   "execution_count": 38,
   "metadata": {},
   "outputs": [
    {
     "data": {
      "text/plain": [
       "<pandas.core.groupby.generic.DataFrameGroupBy object at 0x7f9e4d57c710>"
      ]
     },
     "execution_count": 38,
     "metadata": {},
     "output_type": "execute_result"
    }
   ],
   "source": []
  },
  {
   "cell_type": "code",
   "execution_count": null,
   "metadata": {},
   "outputs": [],
   "source": []
  }
 ],
 "metadata": {
  "kernelspec": {
   "display_name": "Python 3",
   "language": "python",
   "name": "python3"
  },
  "language_info": {
   "codemirror_mode": {
    "name": "ipython",
    "version": 3
   },
   "file_extension": ".py",
   "mimetype": "text/x-python",
   "name": "python",
   "nbconvert_exporter": "python",
   "pygments_lexer": "ipython3",
   "version": "3.7.5"
  }
 },
 "nbformat": 4,
 "nbformat_minor": 2
}
