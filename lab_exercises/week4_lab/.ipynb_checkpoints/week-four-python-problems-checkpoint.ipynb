{
 "cells": [
  {
   "cell_type": "markdown",
   "metadata": {},
   "source": [
    "# Slicing Strings"
   ]
  },
  {
   "cell_type": "code",
   "execution_count": 16,
   "metadata": {},
   "outputs": [],
   "source": [
    "element=\"oxygen\""
   ]
  },
  {
   "cell_type": "code",
   "execution_count": 18,
   "metadata": {},
   "outputs": [
    {
     "name": "stdout",
     "output_type": "stream",
     "text": [
      "first three characters: oxy\n"
     ]
    }
   ],
   "source": [
    "print('first three characters:', element[0:3])"
   ]
  },
  {
   "cell_type": "markdown",
   "metadata": {},
   "source": [
    "### 1. What is the value of element[:4]? What about element[4:]? Or element[:]?\n",
    "\n",
    "#### This code uses the slicing notation (:) which extracts and creates the sequence of indices starting at the first number (before colon) and ending before the second number (after colon)."
   ]
  },
  {
   "cell_type": "code",
   "execution_count": 27,
   "metadata": {},
   "outputs": [
    {
     "name": "stdout",
     "output_type": "stream",
     "text": [
      "First four characters:  oxyg\n"
     ]
    }
   ],
   "source": [
    "print(\"First four characters: \",element[:4]) \n",
    "#This takes into account all the index numbers before 4 starting from 0 i.e. 0,1,2,3. "
   ]
  },
  {
   "cell_type": "code",
   "execution_count": 26,
   "metadata": {},
   "outputs": [
    {
     "name": "stdout",
     "output_type": "stream",
     "text": [
      "Characters beyond 4th index number:  en\n"
     ]
    }
   ],
   "source": [
    "print(\"Characters beyond 4th index number: \",element[4:]) \n",
    "#This takes into account all the index numbers after 4 till the end of the indices, i.e. 4,5"
   ]
  },
  {
   "cell_type": "code",
   "execution_count": 29,
   "metadata": {},
   "outputs": [
    {
     "name": "stdout",
     "output_type": "stream",
     "text": [
      "Whole list (No index number specified):  oxygen\n"
     ]
    }
   ],
   "source": [
    "print(\"Whole list (No index number specified): \", element[:]) \n",
    "# This takes into account the whole list. "
   ]
  },
  {
   "cell_type": "markdown",
   "metadata": {},
   "source": [
    "### 2. What is element[-1]? What is element[-2]?\n",
    "\n",
    "#### Negative index numbers (-n) can be used with the slicing (:) operator to return the last n values from the end of the data. "
   ]
  },
  {
   "cell_type": "code",
   "execution_count": 32,
   "metadata": {},
   "outputs": [
    {
     "name": "stdout",
     "output_type": "stream",
     "text": [
      "Last character of the list:  n\n"
     ]
    }
   ],
   "source": [
    "print(\"Last character of the list: \", element[-1]) \n",
    "#The negative index number, -1, gives the last value. "
   ]
  },
  {
   "cell_type": "code",
   "execution_count": 34,
   "metadata": {},
   "outputs": [
    {
     "name": "stdout",
     "output_type": "stream",
     "text": [
      "Last two characters in the list:  e\n"
     ]
    }
   ],
   "source": [
    "print(\"Last two characters in the list: \", element[-2])\n",
    "#The negative index number, -2, gives the last two values in a list."
   ]
  },
  {
   "cell_type": "markdown",
   "metadata": {},
   "source": [
    "### 3. Given those answers, explain what element[1:-1] does.\n",
    "\n",
    "#### The expression [1:-1] extracts and slices the list starting from index number 1 (2nd element in the list i.e. 'x' here) and it extends to index number -1 (non-excluding i.e. goes till -2) or the second last element in the list viz 'e' here. "
   ]
  },
  {
   "cell_type": "code",
   "execution_count": 37,
   "metadata": {},
   "outputs": [
    {
     "name": "stdout",
     "output_type": "stream",
     "text": [
      "Listing index numbers 1 to -1: xyge\n"
     ]
    }
   ],
   "source": [
    "print(\"Listing index numbers 1 to -1:\", element[1:-1])"
   ]
  },
  {
   "cell_type": "markdown",
   "metadata": {},
   "source": [
    "### 4. The expression element[3:3] produces an empty string, i.e., a string that contains no characters. If data holds our array of patient data, what does data[3:3, 4:4] produce? What about data[3:3, :]?"
   ]
  },
  {
   "cell_type": "markdown",
   "metadata": {},
   "source": [
    "#### element[3:3] gives an empty string because the slicing operator starts from the 3rd index number (or 4th value) and ends before the 3rd index value i.e. '3' after the colon. Hence the expression is unable to capture any element in the list and returns an empty string."
   ]
  },
  {
   "cell_type": "code",
   "execution_count": 41,
   "metadata": {},
   "outputs": [
    {
     "data": {
      "text/plain": [
       "''"
      ]
     },
     "execution_count": 41,
     "metadata": {},
     "output_type": "execute_result"
    }
   ],
   "source": [
    "element[3:3]"
   ]
  },
  {
   "cell_type": "code",
   "execution_count": 41,
   "metadata": {},
   "outputs": [],
   "source": [
    "import numpy\n",
    "data= numpy.loadtxt(fname=\"inflammation-01.csv\",delimiter=\",\")"
   ]
  },
  {
   "cell_type": "code",
   "execution_count": 46,
   "metadata": {},
   "outputs": [
    {
     "data": {
      "text/plain": [
       "array([], shape=(0, 0), dtype=float64)"
      ]
     },
     "execution_count": 46,
     "metadata": {},
     "output_type": "execute_result"
    }
   ],
   "source": [
    "data[3:3,4:4]"
   ]
  },
  {
   "cell_type": "markdown",
   "metadata": {},
   "source": [
    "### Explanation:\n",
    "\n",
    "#### As pointed out, the slicing expression is unable to capture any row or column from the data owing to the start and end point being the same. The [3:3] before the ',' means that the values will be extracted from the 3rd row till before the 3rd row which means no rows will be extracted as such. The same thing applies for [4:4] where values will be extracted from the 4th column till before the 4th column which means no column will be extracted. This can be further validated by the shape parameter which shows 0 rows and 0 column captured. (shape= 0,0) "
   ]
  },
  {
   "cell_type": "code",
   "execution_count": 49,
   "metadata": {},
   "outputs": [
    {
     "data": {
      "text/plain": [
       "array([], shape=(0, 40), dtype=float64)"
      ]
     },
     "execution_count": 49,
     "metadata": {},
     "output_type": "execute_result"
    }
   ],
   "source": [
    "data[3:3,:]"
   ]
  },
  {
   "cell_type": "markdown",
   "metadata": {},
   "source": [
    "#### Here again, the rows are not captured due to same starting and ending index numbers for the rows however, due to [:] alone in place of columns, all the columns are captured by the slicing expression. But due to no row values extracted, the corresponding columns are also not captured. Hence, we get an empty dataset again. \n",
    "#### Notice the shape =(0, 40) which means that 0 rows are captured while all the columns are extracted but are not displayed due to lack of rows. "
   ]
  },
  {
   "cell_type": "markdown",
   "metadata": {},
   "source": [
    "# Stacking Arrays"
   ]
  },
  {
   "cell_type": "code",
   "execution_count": 1,
   "metadata": {},
   "outputs": [
    {
     "name": "stdout",
     "output_type": "stream",
     "text": [
      "A = \n",
      "[[1 2 3]\n",
      " [4 5 6]\n",
      " [7 8 9]]\n",
      "B = \n",
      "[[1 2 3 1 2 3]\n",
      " [4 5 6 4 5 6]\n",
      " [7 8 9 7 8 9]]\n",
      "C = \n",
      "[[1 2 3]\n",
      " [4 5 6]\n",
      " [7 8 9]\n",
      " [1 2 3]\n",
      " [4 5 6]\n",
      " [7 8 9]]\n"
     ]
    }
   ],
   "source": [
    "import numpy\n",
    "\n",
    "A = numpy.array([[1,2,3], [4,5,6], [7, 8, 9]])\n",
    "print('A = ')\n",
    "print(A)\n",
    "\n",
    "B = numpy.hstack([A, A])\n",
    "print('B = ')\n",
    "print(B)\n",
    "\n",
    "C = numpy.vstack([A, A])\n",
    "print('C = ')\n",
    "print(C)"
   ]
  },
  {
   "cell_type": "markdown",
   "metadata": {},
   "source": [
    "### Write some additional code that slices the first and last columns of A, and stacks them into a 3x2 array. Make sure to print the results to verify your solution."
   ]
  },
  {
   "cell_type": "code",
   "execution_count": 38,
   "metadata": {},
   "outputs": [
    {
     "name": "stdout",
     "output_type": "stream",
     "text": [
      "The required 3*2 matrix: \n",
      " [[1 3]\n",
      " [4 6]\n",
      " [7 9]]\n"
     ]
    }
   ],
   "source": [
    "A_col1=A[:,0]\n",
    "A_col3=A[:,2]\n",
    "A_stack=numpy.vstack([A_col1,A_col3]) \n",
    "#This function stacks the two columns vertically over each other(like overlaying two rows) creating a 2*3 matrix.  \n",
    "A_matrix=numpy.transpose(A_stack)\n",
    "#This function will transpose the 2*3 matrix to a 3*2 matrix.  \n",
    "\n",
    "print(\"The required 3*2 matrix: \\n\",A_matrix)"
   ]
  },
  {
   "cell_type": "markdown",
   "metadata": {},
   "source": [
    "# Change In Inflammation"
   ]
  },
  {
   "cell_type": "markdown",
   "metadata": {},
   "source": [
    "### 1. Which axis would it make sense to use this function along?\n",
    "#### The difference function would help more when used horizontally i.e. across the rows (axis=1) because this will give the progress of each patient over a particular time. The difference between the two successive values along the rows helps in determining the change in inflammation over time.  "
   ]
  },
  {
   "cell_type": "markdown",
   "metadata": {},
   "source": [
    "### 2. If the shape of an individual data file is (60, 40) (60 rows and 40 columns), what would the shape of the array be after you run the diff() function and why?"
   ]
  },
  {
   "cell_type": "code",
   "execution_count": 53,
   "metadata": {},
   "outputs": [
    {
     "name": "stdout",
     "output_type": "stream",
     "text": [
      "The dimensions of the difference array:  (54, 39)\n"
     ]
    }
   ],
   "source": [
    "diff_data=numpy.diff(data,axis=1)\n",
    "print(\"The dimensions of the difference array: \",diff_data.shape)"
   ]
  },
  {
   "cell_type": "markdown",
   "metadata": {},
   "source": [
    "#### The number of columns are reduced by 1 because when sucessive numbers are differenced in a row, the number of elements in a row are reduced by 1. Hence, the count of the number of columns reduced from 40 to 39 while the number of rows remian the same; in this case 54.  "
   ]
  },
  {
   "cell_type": "markdown",
   "metadata": {},
   "source": [
    "### 3. How would you find the largest change in inflammation for each patient? Does it matter if the change in inflammation is an increase or a decrease?"
   ]
  },
  {
   "cell_type": "code",
   "execution_count": 70,
   "metadata": {},
   "outputs": [
    {
     "name": "stdout",
     "output_type": "stream",
     "text": [
      "Largest change in inflammation for each patient:\n",
      "  [ 7. 12. 11.  7. 12. 11.  7. 12. 11.  7. 12. 11.  7. 12. 11.  7. 12. 11.\n",
      "  7. 12. 11.  7. 12. 11.  7. 12. 11.  7. 12. 11.  7. 12. 11.  7. 12. 11.\n",
      "  7. 12. 11.  7. 12. 11.  7. 12. 11.  7. 12. 11.  7. 12. 11.  7. 12. 11.]\n",
      "\n",
      "\n",
      " Inflammation trend for every patient: \n",
      " [[ 0.  1.  2. ...  1. -3.  0.]\n",
      " [ 1.  1. -1. ...  0. -1.  1.]\n",
      " [ 1.  0.  2. ...  0. -1.  0.]\n",
      " ...\n",
      " [ 0.  1.  2. ...  1. -3.  0.]\n",
      " [ 1.  1. -1. ...  0. -1.  1.]\n",
      " [ 1.  0.  2. ...  0. -1.  0.]]\n"
     ]
    }
   ],
   "source": [
    "print(\"Largest change in inflammation for each patient:\\n \",numpy.max(diff_data,axis=1))\n",
    "\n",
    "\n",
    "print(\"\\n\\n Inflammation trend for every patient: \\n\", diff_data)"
   ]
  },
  {
   "cell_type": "markdown",
   "metadata": {},
   "source": [
    "#### The change in inflammation is a decrease (or a negative number) when the successive or proceeding element is a lesser inflammation value. The decreased difference value however means that the patient is recovering as his inflammation values are going down with time. "
   ]
  },
  {
   "cell_type": "code",
   "execution_count": null,
   "metadata": {},
   "outputs": [],
   "source": []
  }
 ],
 "metadata": {
  "kernelspec": {
   "display_name": "Python 3",
   "language": "python",
   "name": "python3"
  },
  "language_info": {
   "codemirror_mode": {
    "name": "ipython",
    "version": 3
   },
   "file_extension": ".py",
   "mimetype": "text/x-python",
   "name": "python",
   "nbconvert_exporter": "python",
   "pygments_lexer": "ipython3",
   "version": "3.7.5"
  }
 },
 "nbformat": 4,
 "nbformat_minor": 2
}
