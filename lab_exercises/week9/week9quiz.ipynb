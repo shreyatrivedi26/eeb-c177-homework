{
 "cells": [
  {
   "cell_type": "markdown",
   "metadata": {},
   "source": [
    "# EEB C177/C234 Week 9 Quiz\n",
    "## Regular Expressions in Python\n",
    "### (100 points)"
   ]
  },
  {
   "cell_type": "markdown",
   "metadata": {},
   "source": [
    "## Please Write Name and Student ID in Cell Below:"
   ]
  },
  {
   "cell_type": "markdown",
   "metadata": {},
   "source": [
    "Shreya Trivedi (505431884)"
   ]
  },
  {
   "cell_type": "markdown",
   "metadata": {},
   "source": [
    "### Instructions\n",
    "This quiz will be timed, you will have no more than 1 hour to complete the following quiz. The content on this quiz includes regular expressions performed within the Python language. **This quiz is fair:** All questions are either directly from lab/lecture or are adaptations of past regular expression patterns that you have written for this class. There is one extra credit **challenge** question to complete if you have time. This extra credit question will be worth **15 points** and will only be given **full credit** if the solution is complete and accurate (i.e., no partial extra credit: 15 points or nothing).\n",
    "\n",
    "In order to receive full credit for your solution, your code must run and produce the desired output. Partial credit will only be granted for solutions that are partly complete and headed in the right direction.\n",
    "\n",
    "Please **read** and **follow** all directions carefully and completely. For all questions, please **write your code in the cell directly below the question** and **include comments justifying your code/solution (worth 5 points of each question)**."
   ]
  },
  {
   "cell_type": "markdown",
   "metadata": {},
   "source": [
    "## Question 1 (20 points): Write a function that can be re-used throughout this quiz that allows you to check if a provided pattern is present within a given string. Return a boolean value (i.e., True/False) depending on whether or not the pattern is matched in the provided string. Please only write the function definition in the cell below (failing to follow directions will result in lost points)."
   ]
  },
  {
   "cell_type": "code",
   "execution_count": 6,
   "metadata": {},
   "outputs": [],
   "source": [
    "import re"
   ]
  },
  {
   "cell_type": "code",
   "execution_count": 136,
   "metadata": {},
   "outputs": [],
   "source": [
    "def check_string(string):\n",
    "    regex=re.compile(r'[^A-Za-z0-9]') #re.compile is a function which helps to fix the regular expression \n",
    "    #which can be used througout for speedy calculations. \n",
    "    search=re.search(regex,string) #re.search matches the provided regular expression in the first argument\n",
    "    #with the string provided in the second argument.\n",
    "    if search== \"None\":\n",
    "        print(\"False\")\n",
    "    else:\n",
    "        print(\"True\")"
   ]
  },
  {
   "cell_type": "markdown",
   "metadata": {},
   "source": [
    "## Question 2 (20 points): Use your function from question 1 to check if the string below matches any words beginning with the letter `s`. Note: should capture whole words.\n",
    "\n",
    "> Natural Selection: its power compared with man’s selection, its power on characters of trifling importance, its power at all ages and on both sexes. Sexual Selection. On the generality of intercrosses between individuals of the same species. Circumstances favourable and unfavourable to Natural Selection, namely, intercrossing, isolation, number of individuals. Slow action. Extinction caused by Natural Selection. Divergence of Character, related to the diversity of inhabitants of any small area, and to naturalisation. Action of Natural Selection, through Divergence of Character and Extinction, on the descendants from a common parent. Explains the Grouping of all organic beings. How will the struggle for existence, discussed too briefly in the last chapter, act in regard to variation? Can the principle of selection, which we have seen is so potent in the hands of man, apply in nature? I think we shall see that it can act most effectually. Let it be borne in mind in what an endless number of strange peculiarities our domestic productions, and, in a lesser degree, those under nature, vary; and how strong the hereditary tendency is. Under domestication, it may be truly said that the whole organisation becomes in some degree plastic. Let it be borne in mind how infinitely complex and close-fitting are the mutual relations of all organic beings to each other and to their physical conditions of life. Can it, then, be thought improbable, seeing that variations useful to man have undoubtedly occurred, that other variations useful in some way to each being in the great and complex battle of life, should sometimes occur in the course of thousands of generations? If such do occur, can we doubt (remembering that many more individuals are born than can possibly survive) that individuals having any advantage, however slight, over others, would have the best chance of surviving and of procreating their kind? On the other hand, we may feel sure that any variation in the least degree injurious would be rigidly destroyed. This preservation of favourable variations and the rejection of injurious variations, I call Natural Selection. Variations neither useful nor injurious would not be affected by natural selection, and would be left a fluctuating element, as perhaps we see in the species called polymorphic."
   ]
  },
  {
   "cell_type": "code",
   "execution_count": 149,
   "metadata": {},
   "outputs": [],
   "source": [
    "def check_string(string):\n",
    "    regex=re.compile(r'^[sS](\\w+)')# This expression looks for those positions which have characters starting with\n",
    "    #S or s (as Regex is case-sensitive) and then captures the entire word following it. (\\w+)\n",
    "    search=re.search(regex,string)\n",
    "    print(search.group())"
   ]
  },
  {
   "cell_type": "markdown",
   "metadata": {},
   "source": [
    "## Question 3 (20 points): Use your function from question 1 to check that a string contains only a certain set of characters (in this case a-z, A-Z and 0-9)."
   ]
  },
  {
   "cell_type": "code",
   "execution_count": 64,
   "metadata": {},
   "outputs": [],
   "source": [
    "def check_string(string):\n",
    "    regex=re.compile(r'[A-Za-z0-9]')#Prints any word with these characters in it. It literally captures all letters\n",
    "    #and numbers irrespective of their cases. \n",
    "    search=re.search(regex,string)\n",
    "    print(search.group())"
   ]
  },
  {
   "cell_type": "markdown",
   "metadata": {},
   "source": [
    "## Question 4 (20 points): Below is a list of elements to search through (from the Bees Database). Write a regular expression that will match (10 points) and print out (10 points) each author name separately."
   ]
  },
  {
   "cell_type": "code",
   "execution_count": 114,
   "metadata": {},
   "outputs": [],
   "source": [
    "authors_names = ['(Morawitz, 1877)', 'Cockerell, 1901', '(W. F. Kirby, 1900)', 'Meade-Waldo, 1914', 'Eardley & Brooks, 1989', 'Lepeletier & Audinet-Serville, 1828', 'Michener, LaBerge & Moure, 1955']"
   ]
  },
  {
   "cell_type": "code",
   "execution_count": 261,
   "metadata": {},
   "outputs": [
    {
     "data": {
      "text/plain": [
       "['Eardley ', ' Brooks,']"
      ]
     },
     "execution_count": 261,
     "metadata": {},
     "output_type": "execute_result"
    }
   ],
   "source": [
    "re.search(r'.*(?=\\d*)[^\\d\\(\\)]',\"Eardley & Brooks,1989\").group().split(\"&\") #This expression is capturing every character \n",
    "#(the greedy .* operator(*) used in combination with (.) which captures all characters except spaces and does not \n",
    "# capture or negates(^ inside bracket) digits and special symbols). The lookahead (?=) is used which tends to capture all characters before digits.\n",
    "\n",
    "#split() helped in splitting but didn't work for comma and & together."
   ]
  },
  {
   "cell_type": "code",
   "execution_count": 260,
   "metadata": {},
   "outputs": [
    {
     "name": "stdout",
     "output_type": "stream",
     "text": [
      "(Morawitz, \n",
      "Cockerell, \n",
      "(W. F. Kirby, \n",
      "Meade-Waldo, \n",
      "Eardley & Brooks, \n",
      "Lepeletier & Audinet-Serville, \n",
      "Michener, LaBerge & Moure, \n"
     ]
    }
   ],
   "source": [
    "for names in authors_names: #loop iterates through every author name in the list called author_name\n",
    "    m=re.search(r'.*(?=\\d*)[^\\d\\(\\)]',names) #This function checks and matches the required expression\n",
    "    print(m.group())#.group() prints out clearly"
   ]
  },
  {
   "cell_type": "markdown",
   "metadata": {},
   "source": [
    "## Question 5 (20 points): Use your function from question 1 to check if the DNA sequence below matches the following:\n",
    "### 1) any bases with at least 2 c's but no more than 6 c's (10 points).\n",
    "### 2) any `ct` followed by an a,g (not c,t) (10 points).\n",
    "\n",
    "#### Please clearly label the two subquestions using comments within your code."
   ]
  },
  {
   "cell_type": "code",
   "execution_count": 153,
   "metadata": {},
   "outputs": [
    {
     "name": "stdout",
     "output_type": "stream",
     "text": [
      "CCCCCC\n"
     ]
    }
   ],
   "source": [
    "#1 any bases with at least 2 c's but no more than 6 c's (10 points).\n",
    "\n",
    "string=\"ATGCCCCCCATGCCT\"\n",
    "def check_string(string):\n",
    "    regex=re.compile(r'C{2,6}') #quatifiers {} are used to make sure that C is captured at least 2 times \n",
    "    #and not more than 6 times \n",
    "    search=re.search(regex,string)\n",
    "    print(search.group())\n",
    "\n",
    "check_string(string)"
   ]
  },
  {
   "cell_type": "code",
   "execution_count": 135,
   "metadata": {},
   "outputs": [
    {
     "name": "stdout",
     "output_type": "stream",
     "text": [
      "CTA\n"
     ]
    }
   ],
   "source": [
    "#2 any ct followed by an a,g (not c,t) (10 points).\n",
    "\n",
    "string=\"ATGCTACTGCTC\"\n",
    "def check_string(string):\n",
    "    regex=re.compile(r'CT[AG]') #square bracket only allows those CTs to be captured which are either followed \n",
    "    #by A or G\n",
    "    search=re.search(regex,string)\n",
    "    print(search.group())\n",
    "\n",
    "check_string(string)"
   ]
  },
  {
   "cell_type": "markdown",
   "metadata": {},
   "source": [
    "## Extra Credit (15 points, all or nothing): The `findall` function of `re` allows you to find and return the matches of a regex pattern. As such, write a Python program to find all three, four, and five characters long words in the provided string:\n",
    "`The quick brown fox jumps over the lazy dog.`\n",
    "\n",
    "Your output should look something like this: `['The', 'quick', 'brown', 'fox', 'jumps', 'over', 'the', 'lazy', 'dog']`"
   ]
  },
  {
   "cell_type": "code",
   "execution_count": 229,
   "metadata": {},
   "outputs": [
    {
     "name": "stdout",
     "output_type": "stream",
     "text": [
      "['The', 'quick', 'brown', 'fox', 'jumps', 'over', 'the', 'lazy', 'dog']\n"
     ]
    }
   ],
   "source": [
    "char=re.compile(r'\\w{3,5}') #This expression takes into account all the characters with the length between \n",
    "#3-5 [\\w{3,5}]. The combination of \\w (which captures characters[a-zA-z_] with a quantifier helps in extracting\n",
    "#the desired result) \n",
    "m=re.findall(char,\"The quick brown fox jumps over the lazy dog.\")\n",
    "print(m)"
   ]
  },
  {
   "cell_type": "code",
   "execution_count": null,
   "metadata": {},
   "outputs": [],
   "source": []
  }
 ],
 "metadata": {
  "kernelspec": {
   "display_name": "Python 3",
   "language": "python",
   "name": "python3"
  },
  "language_info": {
   "codemirror_mode": {
    "name": "ipython",
    "version": 3
   },
   "file_extension": ".py",
   "mimetype": "text/x-python",
   "name": "python",
   "nbconvert_exporter": "python",
   "pygments_lexer": "ipython3",
   "version": "3.7.5"
  }
 },
 "nbformat": 4,
 "nbformat_minor": 2
}
