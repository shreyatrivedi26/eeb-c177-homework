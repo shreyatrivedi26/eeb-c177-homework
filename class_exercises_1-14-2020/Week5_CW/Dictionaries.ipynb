{
 "cells": [
  {
   "cell_type": "code",
   "execution_count": 32,
   "metadata": {},
   "outputs": [],
   "source": [
    "#have a default value for keys that werent supplied to a value\n",
    "from collections import defaultdict"
   ]
  },
  {
   "cell_type": "code",
   "execution_count": 4,
   "metadata": {},
   "outputs": [
    {
     "name": "stdout",
     "output_type": "stream",
     "text": [
      "defaultdict(<function <lambda> at 0x7ffa2613cf80>, {})\n"
     ]
    }
   ],
   "source": [
    "ice_cream = defaultdict(lambda:'Vanilla') #Creates empty dictionary\n",
    "print(ice_cream)"
   ]
  },
  {
   "cell_type": "code",
   "execution_count": 8,
   "metadata": {},
   "outputs": [
    {
     "name": "stdout",
     "output_type": "stream",
     "text": [
      "defaultdict(<function <lambda> at 0x7ffa2613cf80>, {'Sarah': 'Chunky Monkey'})\n",
      "Chunky Monkey\n",
      "Vanilla\n"
     ]
    }
   ],
   "source": [
    "ice_cream['Sarah'] = 'Chunky Monkey'\n",
    "print(ice_cream)\n",
    "print(ice_cream['Sarah'])\n",
    "print(ice_cream['Joe']) #Prints default vanilla value "
   ]
  },
  {
   "cell_type": "code",
   "execution_count": 9,
   "metadata": {},
   "outputs": [
    {
     "name": "stdout",
     "output_type": "stream",
     "text": [
      "Strawberry\n"
     ]
    }
   ],
   "source": [
    "ice_cream['Joe'] = 'Strawberry'\n",
    "print(ice_cream['Joe'])"
   ]
  },
  {
   "cell_type": "code",
   "execution_count": 29,
   "metadata": {},
   "outputs": [
    {
     "name": "stdout",
     "output_type": "stream",
     "text": [
      "['pasta', 'pizza', 'burgers', 'cheese', 'pasta', 'burgers', 'tacos', 'tacos', 'pasta', 'butter', 'bread']\n"
     ]
    }
   ],
   "source": [
    "food_list = 'pasta pizza burgers cheese pasta burgers tacos tacos pasta butter bread'.split() #Do not add commas when \n",
    "#definign the string files\n",
    "#split() function splits up the list into individual elements adding commas on its own\n",
    "print(food_list)"
   ]
  },
  {
   "cell_type": "code",
   "execution_count": 36,
   "metadata": {},
   "outputs": [
    {
     "name": "stdout",
     "output_type": "stream",
     "text": [
      "defaultdict(<class 'int'>, {})\n"
     ]
    }
   ],
   "source": [
    "food_count = defaultdict(int) #empty integer dictionary \n",
    "print(food_count)"
   ]
  },
  {
   "cell_type": "code",
   "execution_count": 37,
   "metadata": {},
   "outputs": [
    {
     "name": "stdout",
     "output_type": "stream",
     "text": [
      "defaultdict(<class 'int'>, {'pasta': 3, 'pizza': 1, 'burgers': 2, 'cheese': 1, 'tacos': 2, 'butter': 1, 'bread': 1})\n",
      "3\n"
     ]
    }
   ],
   "source": [
    "#Running it again and again overwrites the for loop everytime\n",
    "for food in food_list:\n",
    "    food_count[food]=food_count[food]+1 # checks a particular food and counts the same by incrementing it by one;\n",
    "    #for the first time the element just gets created and added in the food_count and when it occurs next time, \n",
    "    #only the integer value gets incremented by one\n",
    "    \n",
    "    \n",
    "print(food_count)\n",
    "print(food_count['pasta'])"
   ]
  },
  {
   "cell_type": "code",
   "execution_count": 42,
   "metadata": {},
   "outputs": [
    {
     "name": "stdout",
     "output_type": "stream",
     "text": [
      "0\n",
      "defaultdict(<class 'int'>, {'pasta': 3, 'pizza': 1, 'burgers': 2, 'cheese': 1, 'tacos': 2, 'butter': 1, 'bread': 1, 'Eggs': 0})\n"
     ]
    }
   ],
   "source": [
    "print(food_count['Eggs']) #Not present but adds it as a key with 0 value \n",
    "print(food_count)"
   ]
  },
  {
   "cell_type": "code",
   "execution_count": 85,
   "metadata": {},
   "outputs": [
    {
     "name": "stdout",
     "output_type": "stream",
     "text": [
      "[('TX', 'Austin'), ('TX', 'Houston'), ('NY', 'Albany'), ('NY', 'Syracuse'), ('NY', 'Buffalo'), ('NY', 'Rochester'), ('TX', 'Dallas'), ('CA', 'Sacramento'), ('CA', 'Palo Alto'), ('GA', 'Atlanta')]\n"
     ]
    }
   ],
   "source": [
    "city_list = [('TX','Austin'), ('TX','Houston'), ('NY','Albany'), ('NY', 'Syracuse'), ('NY', 'Buffalo'), ('NY', 'Rochester'), ('TX', 'Dallas'), ('CA','Sacramento'), ('CA', 'Palo Alto'), ('GA', 'Atlanta')]\n",
    "print(city_list)"
   ]
  },
  {
   "cell_type": "code",
   "execution_count": 86,
   "metadata": {},
   "outputs": [
    {
     "name": "stdout",
     "output_type": "stream",
     "text": [
      "defaultdict(<class 'list'>, {})\n"
     ]
    }
   ],
   "source": [
    "city_dict = defaultdict(list) #list format of dictionary \n",
    "print(city_dict)"
   ]
  },
  {
   "cell_type": "code",
   "execution_count": 87,
   "metadata": {
    "scrolled": true
   },
   "outputs": [
    {
     "name": "stdout",
     "output_type": "stream",
     "text": [
      "defaultdict(<class 'list'>, {'TX': ['Austin', 'Houston', 'Dallas'], 'NY': ['Albany', 'Syracuse', 'Buffalo', 'Rochester'], 'CA': ['Sacramento', 'Palo Alto'], 'GA': ['Atlanta']})\n"
     ]
    }
   ],
   "source": [
    "for state,city in city_list: # creates empty state and city dictionary with city list as a skeleton\n",
    "    city_dict[state].append(city) #It matches the states and extracts the corresponding cities to it\n",
    "    \n",
    "print(city_dict)\n",
    "\n",
    "  #state = thing[0] When there are more than two columns, specify it. \n",
    "    #city = thing[1]\n",
    "    #print(city, state)"
   ]
  },
  {
   "cell_type": "code",
   "execution_count": 88,
   "metadata": {},
   "outputs": [
    {
     "name": "stdout",
     "output_type": "stream",
     "text": [
      "\n",
      " TX Austin,Houston,Dallas\n",
      "\n",
      " NY Albany,Syracuse,Buffalo,Rochester\n",
      "\n",
      " CA Sacramento,Palo Alto\n",
      "\n",
      " GA Atlanta\n"
     ]
    }
   ],
   "source": [
    "#.items() prints all the items in the dictionary \n",
    "for states,city in city_dict.items():\n",
    "    #print(states, \":\", city)\n",
    "    print(\"\\n\",states, ','.join(city)) #.join() "
   ]
  },
  {
   "cell_type": "code",
   "execution_count": 83,
   "metadata": {},
   "outputs": [
    {
     "name": "stdout",
     "output_type": "stream",
     "text": [
      "Keya are: dict_keys(['Homo sapiens', 'E.Coli', 'Arabidopsis thaliana'])\n",
      "Values are: dict_values([3200.0, 4.6, 157.0])\n"
     ]
    }
   ],
   "source": [
    "#Dictionaries are associations which help to use more than one data type. \n",
    "my_dict = {}\n",
    "Genome_size = {\"Homo sapiens\": 3200.0, \"E.Coli\":4.6, \"Arabidopsis thaliana\":157.0}\n",
    "print(\"Keya are:\",Genome_size.keys())\n",
    "print(\"Values are:\",Genome_size.values())"
   ]
  },
  {
   "cell_type": "code",
   "execution_count": 14,
   "metadata": {},
   "outputs": [
    {
     "name": "stdout",
     "output_type": "stream",
     "text": [
      "Homo sapiens : 3200.0\n",
      "E.Coli : 4.6\n",
      "Arabidopsis thaliana : 157.0\n"
     ]
    }
   ],
   "source": [
    "for species,size in Genome_size.items():\n",
    "    print(species+ \" : \" +str(size)) # + can be used in print insted of comma"
   ]
  },
  {
   "cell_type": "code",
   "execution_count": 23,
   "metadata": {},
   "outputs": [
    {
     "name": "stdout",
     "output_type": "stream",
     "text": [
      "the genome size of  Homo sapiens is 3200.0\n",
      "the genome size of  E.Coli is 4.6\n",
      "the genome size of  Arabidopsis thaliana is 157.0\n"
     ]
    }
   ],
   "source": [
    "for key in Genome_size.keys():\n",
    "    print(\"the genome size of \", key, \"is\", str(Genome_size[key])) #reading values as in list using []"
   ]
  },
  {
   "cell_type": "code",
   "execution_count": 26,
   "metadata": {},
   "outputs": [],
   "source": [
    "Genome_size[\"triggerfish\"] = 100.0 # add extra value\n",
    "Genome_size"
   ]
  },
  {
   "cell_type": "code",
   "execution_count": 39,
   "metadata": {},
   "outputs": [
    {
     "name": "stdout",
     "output_type": "stream",
     "text": [
      "{'Homo sapiens': 3200.0, 'E.Coli': 4.6, 'Arabidopsis thaliana': 157.0, 'triggerfish': 100.0}\n"
     ]
    }
   ],
   "source": [
    "#get() function helps in updating the dictionary and adding  a value \n",
    "Genome_size.get(\"Mus musculus\",10.0) \n",
    "print(Genome_size)"
   ]
  },
  {
   "cell_type": "code",
   "execution_count": 48,
   "metadata": {},
   "outputs": [
    {
     "name": "stdout",
     "output_type": "stream",
     "text": [
      "{'Country': 'India', 'Capital': 'New Delhi', 'No. of states': 29}\n"
     ]
    }
   ],
   "source": [
    "#zip() to convert two lists into a dictionary \n",
    "Key = ('Country', 'Capital', 'No. of states')\n",
    "Values = ('India','New Delhi', 29 )\n",
    "zip(Key,Values) # combines the two lists together\n",
    "capital_dict = dict(zip(Key,Values)) #dict() creates the dictionary of the zipped lists\n",
    "print(capital_dict)"
   ]
  },
  {
   "cell_type": "code",
   "execution_count": 53,
   "metadata": {},
   "outputs": [],
   "source": [
    "#sets are lists without duplicate items\n",
    "\n",
    "a = [5,6,7,7,7,8,8,9,9,9]\n",
    "b = set(a)\n"
   ]
  },
  {
   "cell_type": "code",
   "execution_count": 55,
   "metadata": {},
   "outputs": [
    {
     "name": "stdout",
     "output_type": "stream",
     "text": [
      "['a', 'b']\n"
     ]
    },
    {
     "ename": "AttributeError",
     "evalue": "'tuple' object has no attribute 'pop'",
     "output_type": "error",
     "traceback": [
      "\u001b[0;31m---------------------------------------------------------------------------\u001b[0m",
      "\u001b[0;31mAttributeError\u001b[0m                            Traceback (most recent call last)",
      "\u001b[0;32m<ipython-input-55-38b726dd2e3f>\u001b[0m in \u001b[0;36m<module>\u001b[0;34m\u001b[0m\n\u001b[1;32m      6\u001b[0m \u001b[0mlist_exapmle\u001b[0m\u001b[0;34m.\u001b[0m\u001b[0mpop\u001b[0m\u001b[0;34m(\u001b[0m\u001b[0;34m)\u001b[0m\u001b[0;34m\u001b[0m\u001b[0;34m\u001b[0m\u001b[0m\n\u001b[1;32m      7\u001b[0m \u001b[0mprint\u001b[0m\u001b[0;34m(\u001b[0m\u001b[0mlist_exapmle\u001b[0m\u001b[0;34m)\u001b[0m\u001b[0;34m\u001b[0m\u001b[0;34m\u001b[0m\u001b[0m\n\u001b[0;32m----> 8\u001b[0;31m \u001b[0mtuple_example\u001b[0m\u001b[0;34m.\u001b[0m\u001b[0mpop\u001b[0m\u001b[0;34m(\u001b[0m\u001b[0;34m)\u001b[0m\u001b[0;34m\u001b[0m\u001b[0;34m\u001b[0m\u001b[0m\n\u001b[0m",
      "\u001b[0;31mAttributeError\u001b[0m: 'tuple' object has no attribute 'pop'"
     ]
    }
   ],
   "source": [
    "#creating tuples\n",
    "tuple_example = (\"a\",\"b\",\"c\") #use round brackets to define\n",
    "list_exapmle = [\"a\",\"b\",\"c\"] \n",
    "\n",
    "#using pop on both \n",
    "list_exapmle.pop()\n",
    "print(list_exapmle) #mutated and appended - can be changed\n",
    "tuple_example.pop() #cannot be changed - immutable"
   ]
  },
  {
   "cell_type": "code",
   "execution_count": 61,
   "metadata": {},
   "outputs": [
    {
     "name": "stdout",
     "output_type": "stream",
     "text": [
      "Homo  is an ape.\n",
      "Pan  is an ape.\n",
      "Gorrilla  is an ape.\n",
      "Orangutan  is an ape.\n",
      "Red-faced Macque  is an ape.\n",
      "Chimpanzee  is an ape.\n"
     ]
    }
   ],
   "source": [
    "#for loop \n",
    "\n",
    "apes = [\"Homo\",\"Pan\",\"Gorrilla\", \"Orangutan\", \"Red-faced Macque\", \"Chimpanzee\"]\n",
    "for ape in apes:\n",
    "    print(ape, \" is an ape.\")"
   ]
  },
  {
   "cell_type": "code",
   "execution_count": 69,
   "metadata": {},
   "outputs": [
    {
     "name": "stdout",
     "output_type": "stream",
     "text": [
      "0\n",
      "1\n",
      "2\n",
      "3\n",
      "4\n",
      "5\n",
      "\n",
      "\n",
      "1\n",
      "2\n",
      "3\n",
      "4\n",
      "5\n"
     ]
    }
   ],
   "source": [
    "# range() helps in defining the boundaries \n",
    "\n",
    "for i in range(6):\n",
    "    print(i)\n",
    "\n",
    "print(\"\\n\")\n",
    "    \n",
    "for i in range(5):\n",
    "    print(i+1) #count to start from 1"
   ]
  },
  {
   "cell_type": "code",
   "execution_count": 74,
   "metadata": {},
   "outputs": [
    {
     "name": "stdout",
     "output_type": "stream",
     "text": [
      "Homo is an ape.\n",
      " It's name starts with  H \n",
      " Its length is  4\n",
      "Pan is an ape.\n",
      " It's name starts with  P \n",
      " Its length is  3\n",
      "Gorrilla is an ape.\n",
      " It's name starts with  G \n",
      " Its length is  8\n",
      "Orangutan is an ape.\n",
      " It's name starts with  O \n",
      " Its length is  9\n",
      "Red-faced Macque is an ape.\n",
      " It's name starts with  R \n",
      " Its length is  16\n",
      "Chimpanzee is an ape.\n",
      " It's name starts with  C \n",
      " Its length is  10\n"
     ]
    }
   ],
   "source": [
    "for ape in apes:\n",
    "    length = len(ape)\n",
    "    intial = ape[0]\n",
    "    print(ape, \"is an ape.\\n It's name starts with \", intial, \"\\n Its length is \", length)"
   ]
  },
  {
   "cell_type": "code",
   "execution_count": 73,
   "metadata": {},
   "outputs": [
    {
     "data": {
      "text/plain": [
       "'C'"
      ]
     },
     "execution_count": 73,
     "metadata": {},
     "output_type": "execute_result"
    }
   ],
   "source": []
  },
  {
   "cell_type": "code",
   "execution_count": null,
   "metadata": {},
   "outputs": [],
   "source": []
  }
 ],
 "metadata": {
  "kernelspec": {
   "display_name": "Python 3",
   "language": "python",
   "name": "python3"
  },
  "language_info": {
   "codemirror_mode": {
    "name": "ipython",
    "version": 3
   },
   "file_extension": ".py",
   "mimetype": "text/x-python",
   "name": "python",
   "nbconvert_exporter": "python",
   "pygments_lexer": "ipython3",
   "version": "3.7.5"
  }
 },
 "nbformat": 4,
 "nbformat_minor": 2
}
