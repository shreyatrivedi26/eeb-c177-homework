{
 "cells": [
  {
   "cell_type": "code",
   "execution_count": 1,
   "metadata": {},
   "outputs": [],
   "source": [
    "import csv\n",
    "import numpy as np"
   ]
  },
  {
   "cell_type": "code",
   "execution_count": 2,
   "metadata": {},
   "outputs": [
    {
     "name": "stdout",
     "output_type": "stream",
     "text": [
      "OrderedDict([('species', 'Acantholabrus_palloni'), ('family', 'Labridae'), ('order', 'Perciformes'), ('length', '25'), ('length.measurement', 'TL')])\n",
      "OrderedDict([('species', 'Achoerodus_viridis'), ('family', 'Labridae'), ('order', 'Perciformes'), ('length', '62'), ('length.measurement', 'TL')])\n",
      "OrderedDict([('species', 'Anampses_caeruleopunctatus'), ('family', 'Labridae'), ('order', 'Perciformes'), ('length', '42'), ('length.measurement', 'TL')])\n",
      "OrderedDict([('species', 'Anampses_geographicus'), ('family', 'Labridae'), ('order', 'Perciformes'), ('length', '31'), ('length.measurement', 'TL')])\n",
      "OrderedDict([('species', 'Anampses_meleagrides'), ('family', 'Labridae'), ('order', 'Perciformes'), ('length', '22'), ('length.measurement', 'TL')])\n",
      "OrderedDict([('species', 'Anampses_neoguinaicus'), ('family', 'Labridae'), ('order', 'Perciformes'), ('length', '20'), ('length.measurement', 'SL')])\n",
      "OrderedDict([('species', 'Anampses_twistii'), ('family', 'Labridae'), ('order', 'Perciformes'), ('length', '18'), ('length.measurement', 'TL')])\n",
      "OrderedDict([('species', 'Austrolabrus_maculatus'), ('family', 'Labridae'), ('order', 'Perciformes'), ('length', '12.6'), ('length.measurement', 'SL')])\n",
      "OrderedDict([('species', 'Bodianus_mesothorax'), ('family', 'Labridae'), ('order', 'Perciformes'), ('length', '25'), ('length.measurement', 'TL')])\n",
      "OrderedDict([('species', 'Bodianus_rufus'), ('family', 'Labridae'), ('order', 'Perciformes'), ('length', '40'), ('length.measurement', 'TL')])\n",
      "OrderedDict([('species', 'Bodianus_scrofa'), ('family', 'Labridae'), ('order', 'Perciformes'), ('length', '43'), ('length.measurement', 'TL')])\n",
      "OrderedDict([('species', 'Centrolabrus_caeruleus'), ('family', 'Labridae'), ('order', 'Perciformes'), ('length', '21.5'), ('length.measurement', 'SL')])\n",
      "OrderedDict([('species', 'Centrolabrus_exoletus'), ('family', 'Labridae'), ('order', 'Perciformes'), ('length', '18'), ('length.measurement', 'TL')])\n",
      "OrderedDict([('species', 'Centrolabrus_trutta'), ('family', 'Labridae'), ('order', 'Perciformes'), ('length', '18'), ('length.measurement', 'TL')])\n",
      "OrderedDict([('species', 'Cheilinus_chlorourus'), ('family', 'Labridae'), ('order', 'Perciformes'), ('length', '45'), ('length.measurement', 'TL')])\n",
      "OrderedDict([('species', 'Cheilinus_fasciatus'), ('family', 'Labridae'), ('order', 'Perciformes'), ('length', '40'), ('length.measurement', 'SL')])\n",
      "OrderedDict([('species', 'Cheilinus_oxycephalus'), ('family', 'Labridae'), ('order', 'Perciformes'), ('length', '17'), ('length.measurement', 'TL')])\n",
      "OrderedDict([('species', 'Cheilinus_trilobatus'), ('family', 'Labridae'), ('order', 'Perciformes'), ('length', '45'), ('length.measurement', 'TL')])\n",
      "OrderedDict([('species', 'Cheilinus_undulatus'), ('family', 'Labridae'), ('order', 'Perciformes'), ('length', '229'), ('length.measurement', 'SL')])\n",
      "OrderedDict([('species', 'Cheilio_inermis'), ('family', 'Labridae'), ('order', 'Perciformes'), ('length', '50'), ('length.measurement', 'SL')])\n",
      "OrderedDict([('species', 'Choerodon_anchorago'), ('family', 'Labridae'), ('order', 'Perciformes'), ('length', '38'), ('length.measurement', 'SL')])\n",
      "OrderedDict([('species', 'Choerodon_azurio'), ('family', 'Labridae'), ('order', 'Perciformes'), ('length', '25.6'), ('length.measurement', 'SL')])\n",
      "OrderedDict([('species', 'Choerodon_fasciatus'), ('family', 'Labridae'), ('order', 'Perciformes'), ('length', '30'), ('length.measurement', 'TL')])\n",
      "OrderedDict([('species', 'Choerodon_oligacanthus'), ('family', 'Labridae'), ('order', 'Perciformes'), ('length', '28.2'), ('length.measurement', 'SL')])\n",
      "OrderedDict([('species', 'Choerodon_schoenleinii'), ('family', 'Labridae'), ('order', 'Perciformes'), ('length', '100'), ('length.measurement', 'TL')])\n",
      "OrderedDict([('species', 'Cirrhilabrus_lubbocki'), ('family', 'Labridae'), ('order', 'Perciformes'), ('length', '8'), ('length.measurement', 'TL')])\n",
      "OrderedDict([('species', 'Clepticus_parrae'), ('family', 'Labridae'), ('order', 'Perciformes'), ('length', '30'), ('length.measurement', 'TL')])\n",
      "OrderedDict([('species', 'Coris_aurilineata'), ('family', 'Labridae'), ('order', 'Perciformes'), ('length', '14'), ('length.measurement', 'TL')])\n",
      "OrderedDict([('species', 'Coris_aygula'), ('family', 'Labridae'), ('order', 'Perciformes'), ('length', '120'), ('length.measurement', 'TL')])\n",
      "OrderedDict([('species', 'Coris_batuensis'), ('family', 'Labridae'), ('order', 'Perciformes'), ('length', '17'), ('length.measurement', 'TL')])\n",
      "OrderedDict([('species', 'Coris_dorsomacula'), ('family', 'Labridae'), ('order', 'Perciformes'), ('length', '20'), ('length.measurement', 'TL')])\n",
      "OrderedDict([('species', 'Coris_flavovittata'), ('family', 'Labridae'), ('order', 'Perciformes'), ('length', '50.8'), ('length.measurement', 'SL')])\n",
      "OrderedDict([('species', 'Coris_gaimard'), ('family', 'Labridae'), ('order', 'Perciformes'), ('length', '40'), ('length.measurement', 'TL')])\n",
      "OrderedDict([('species', 'Coris_julis'), ('family', 'Labridae'), ('order', 'Perciformes'), ('length', '30'), ('length.measurement', 'SL')])\n",
      "OrderedDict([('species', 'Coris_picta'), ('family', 'Labridae'), ('order', 'Perciformes'), ('length', '25'), ('length.measurement', 'TL')])\n",
      "OrderedDict([('species', 'Coris_pictoides'), ('family', 'Labridae'), ('order', 'Perciformes'), ('length', '15'), ('length.measurement', 'TL')])\n",
      "OrderedDict([('species', 'Ctenolabrus_rupestris'), ('family', 'Labridae'), ('order', 'Perciformes'), ('length', '18'), ('length.measurement', 'TL')])\n",
      "OrderedDict([('species', 'Cymolutes_praetextatus'), ('family', 'Labridae'), ('order', 'Perciformes'), ('length', '20'), ('length.measurement', 'SL')])\n",
      "OrderedDict([('species', 'Cymolutes_torquatus'), ('family', 'Labridae'), ('order', 'Perciformes'), ('length', '20'), ('length.measurement', 'TL')])\n",
      "OrderedDict([('species', 'Decodon_melasma'), ('family', 'Labridae'), ('order', 'Perciformes'), ('length', '32.3'), ('length.measurement', 'TL')])\n",
      "OrderedDict([('species', 'Diproctacanthus_xanthurus'), ('family', 'Labridae'), ('order', 'Perciformes'), ('length', '10'), ('length.measurement', 'TL')])\n",
      "OrderedDict([('species', 'Epibulus_brevis'), ('family', 'Labridae'), ('order', 'Perciformes'), ('length', '18.5'), ('length.measurement', 'SL')])\n",
      "OrderedDict([('species', 'Epibulus_insidiator'), ('family', 'Labridae'), ('order', 'Perciformes'), ('length', '54'), ('length.measurement', 'SL')])\n",
      "OrderedDict([('species', 'Gomphosus_caeruleus'), ('family', 'Labridae'), ('order', 'Perciformes'), ('length', '30'), ('length.measurement', 'TL')])\n",
      "OrderedDict([('species', 'Gomphosus_varius'), ('family', 'Labridae'), ('order', 'Perciformes'), ('length', '30'), ('length.measurement', 'SL')])\n",
      "OrderedDict([('species', 'Halichoeres_argus'), ('family', 'Labridae'), ('order', 'Perciformes'), ('length', '12'), ('length.measurement', 'TL')])\n",
      "OrderedDict([('species', 'Halichoeres_bathyphilus'), ('family', 'Labridae'), ('order', 'Perciformes'), ('length', '23'), ('length.measurement', 'TL')])\n",
      "OrderedDict([('species', 'Halichoeres_binotopsis'), ('family', 'Labridae'), ('order', 'Perciformes'), ('length', '8.9'), ('length.measurement', 'SL')])\n",
      "OrderedDict([('species', 'Halichoeres_biocellatus'), ('family', 'Labridae'), ('order', 'Perciformes'), ('length', '12'), ('length.measurement', 'TL')])\n",
      "OrderedDict([('species', 'Halichoeres_bivittatus'), ('family', 'Labridae'), ('order', 'Perciformes'), ('length', '35'), ('length.measurement', 'TL')])\n",
      "OrderedDict([('species', 'Halichoeres_brasiliensis'), ('family', 'Labridae'), ('order', 'Perciformes'), ('length', 'NA'), ('length.measurement', 'NA')])\n",
      "OrderedDict([('species', 'Halichoeres_brownfieldi'), ('family', 'Labridae'), ('order', 'Perciformes'), ('length', '15'), ('length.measurement', 'TL')])\n",
      "OrderedDict([('species', 'Halichoeres_burekae'), ('family', 'Labridae'), ('order', 'Perciformes'), ('length', '7.7'), ('length.measurement', 'SL')])\n",
      "OrderedDict([('species', 'Halichoeres_chierchiae'), ('family', 'Labridae'), ('order', 'Perciformes'), ('length', '17.5'), ('length.measurement', 'TL')])\n",
      "OrderedDict([('species', 'Halichoeres_chloropterus'), ('family', 'Labridae'), ('order', 'Perciformes'), ('length', '19'), ('length.measurement', 'SL')])\n",
      "OrderedDict([('species', 'Halichoeres_chrysus'), ('family', 'Labridae'), ('order', 'Perciformes'), ('length', '12'), ('length.measurement', 'TL')])\n",
      "OrderedDict([('species', 'Halichoeres_cyanocephalus'), ('family', 'Labridae'), ('order', 'Perciformes'), ('length', '30'), ('length.measurement', 'TL')])\n",
      "OrderedDict([('species', 'Halichoeres_dispilus'), ('family', 'Labridae'), ('order', 'Perciformes'), ('length', '25'), ('length.measurement', 'TL')])\n",
      "OrderedDict([('species', 'Halichoeres_garnoti'), ('family', 'Labridae'), ('order', 'Perciformes'), ('length', '19.3'), ('length.measurement', 'TL')])\n",
      "OrderedDict([('species', 'Halichoeres_hartzfeldii'), ('family', 'Labridae'), ('order', 'Perciformes'), ('length', '18'), ('length.measurement', 'TL')])\n",
      "OrderedDict([('species', 'Halichoeres_hortulanus'), ('family', 'Labridae'), ('order', 'Perciformes'), ('length', '27'), ('length.measurement', 'TL')])\n",
      "OrderedDict([('species', 'Halichoeres_insularis'), ('family', 'Labridae'), ('order', 'Perciformes'), ('length', '7'), ('length.measurement', 'TL')])\n",
      "OrderedDict([('species', 'Halichoeres_lapillus'), ('family', 'Labridae'), ('order', 'Perciformes'), ('length', '14'), ('length.measurement', 'TL')])\n",
      "OrderedDict([('species', 'Halichoeres_leucoxanthus'), ('family', 'Labridae'), ('order', 'Perciformes'), ('length', '12'), ('length.measurement', 'TL')])\n",
      "OrderedDict([('species', 'Halichoeres_leucurus'), ('family', 'Labridae'), ('order', 'Perciformes'), ('length', '13'), ('length.measurement', 'TL')])\n",
      "OrderedDict([('species', 'Halichoeres_maculipinna'), ('family', 'Labridae'), ('order', 'Perciformes'), ('length', '18'), ('length.measurement', 'TL')])\n",
      "OrderedDict([('species', 'Halichoeres_margaritaceus'), ('family', 'Labridae'), ('order', 'Perciformes'), ('length', '12.5'), ('length.measurement', 'SL')])\n",
      "OrderedDict([('species', 'Halichoeres_marginatus'), ('family', 'Labridae'), ('order', 'Perciformes'), ('length', '18'), ('length.measurement', 'TL')])\n",
      "OrderedDict([('species', 'Halichoeres_melanotis'), ('family', 'Labridae'), ('order', 'Perciformes'), ('length', '13'), ('length.measurement', 'TL')])\n",
      "OrderedDict([('species', 'Halichoeres_melanurus'), ('family', 'Labridae'), ('order', 'Perciformes'), ('length', '12'), ('length.measurement', 'TL')])\n",
      "OrderedDict([('species', 'Halichoeres_melasmapomus'), ('family', 'Labridae'), ('order', 'Perciformes'), ('length', '24'), ('length.measurement', 'TL')])\n",
      "OrderedDict([('species', 'Halichoeres_miniatus'), ('family', 'Labridae'), ('order', 'Perciformes'), ('length', '12'), ('length.measurement', 'TL')])\n",
      "OrderedDict([('species', 'Halichoeres_nebulosus'), ('family', 'Labridae'), ('order', 'Perciformes'), ('length', '12'), ('length.measurement', 'TL')])\n",
      "OrderedDict([('species', 'Halichoeres_nicholsi'), ('family', 'Labridae'), ('order', 'Perciformes'), ('length', '38'), ('length.measurement', 'TL')])\n",
      "OrderedDict([('species', 'Halichoeres_nigrescens'), ('family', 'Labridae'), ('order', 'Perciformes'), ('length', '14'), ('length.measurement', 'TL')])\n",
      "OrderedDict([('species', 'Halichoeres_notospilus'), ('family', 'Labridae'), ('order', 'Perciformes'), ('length', '25.4'), ('length.measurement', 'TL')])\n",
      "OrderedDict([('species', 'Halichoeres_ornatissimus'), ('family', 'Labridae'), ('order', 'Perciformes'), ('length', '18'), ('length.measurement', 'TL')])\n",
      "OrderedDict([('species', 'Halichoeres_papilionaceus'), ('family', 'Labridae'), ('order', 'Perciformes'), ('length', '12'), ('length.measurement', 'TL')])\n",
      "OrderedDict([('species', 'Halichoeres_pictus'), ('family', 'Labridae'), ('order', 'Perciformes'), ('length', '13'), ('length.measurement', 'TL')])\n",
      "OrderedDict([('species', 'Halichoeres_podostigma'), ('family', 'Labridae'), ('order', 'Perciformes'), ('length', '18.5'), ('length.measurement', 'SL')])\n",
      "OrderedDict([('species', 'Halichoeres_poeyi'), ('family', 'Labridae'), ('order', 'Perciformes'), ('length', '20'), ('length.measurement', 'TL')])\n",
      "OrderedDict([('species', 'Halichoeres_prosopeion'), ('family', 'Labridae'), ('order', 'Perciformes'), ('length', '13'), ('length.measurement', 'SL')])\n",
      "OrderedDict([('species', 'Halichoeres_radiatus'), ('family', 'Labridae'), ('order', 'Perciformes'), ('length', '51'), ('length.measurement', 'TL')])\n",
      "OrderedDict([('species', 'Halichoeres_richmondi'), ('family', 'Labridae'), ('order', 'Perciformes'), ('length', '19'), ('length.measurement', 'TL')])\n",
      "OrderedDict([('species', 'Halichoeres_rubrovirens'), ('family', 'Labridae'), ('order', 'Perciformes'), ('length', '23.1'), ('length.measurement', 'SL')])\n",
      "OrderedDict([('species', 'Halichoeres_sazimai'), ('family', 'Labridae'), ('order', 'Perciformes'), ('length', '21.4'), ('length.measurement', 'SL')])\n",
      "OrderedDict([('species', 'Halichoeres_scapularis'), ('family', 'Labridae'), ('order', 'Perciformes'), ('length', '20'), ('length.measurement', 'TL')])\n",
      "OrderedDict([('species', 'Halichoeres_semicinctus'), ('family', 'Labridae'), ('order', 'Perciformes'), ('length', '38'), ('length.measurement', 'TL')])\n",
      "OrderedDict([('species', 'Halichoeres_socialis'), ('family', 'Labridae'), ('order', 'Perciformes'), ('length', '4.7'), ('length.measurement', 'SL')])\n",
      "OrderedDict([('species', 'Halichoeres_solorensis'), ('family', 'Labridae'), ('order', 'Perciformes'), ('length', '18'), ('length.measurement', 'TL')])\n",
      "OrderedDict([('species', 'Halichoeres_trimaculatus'), ('family', 'Labridae'), ('order', 'Perciformes'), ('length', '27'), ('length.measurement', 'TL')])\n",
      "OrderedDict([('species', 'Hemigymnus_fasciatus'), ('family', 'Labridae'), ('order', 'Perciformes'), ('length', '80'), ('length.measurement', 'TL')])\n",
      "OrderedDict([('species', 'Hemigymnus_melapterus'), ('family', 'Labridae'), ('order', 'Perciformes'), ('length', '90'), ('length.measurement', 'TL')])\n",
      "OrderedDict([('species', 'Hologymnosus_annulatus'), ('family', 'Labridae'), ('order', 'Perciformes'), ('length', '40'), ('length.measurement', 'TL')])\n",
      "OrderedDict([('species', 'Hologymnosus_doliatus'), ('family', 'Labridae'), ('order', 'Perciformes'), ('length', '50'), ('length.measurement', 'TL')])\n",
      "OrderedDict([('species', 'Iniistius_aneitensis'), ('family', 'Labridae'), ('order', 'Perciformes'), ('length', '24'), ('length.measurement', 'TL')])\n",
      "OrderedDict([('species', 'Labrichthys_unilineatus'), ('family', 'Labridae'), ('order', 'Perciformes'), ('length', '17.5'), ('length.measurement', 'TL')])\n",
      "OrderedDict([('species', 'Labroides_bicolor'), ('family', 'Labridae'), ('order', 'Perciformes'), ('length', '15'), ('length.measurement', 'TL')])\n",
      "OrderedDict([('species', 'Labroides_dimidiatus'), ('family', 'Labridae'), ('order', 'Perciformes'), ('length', '14'), ('length.measurement', 'TL')])\n",
      "OrderedDict([('species', 'Labroides_rubrolabiatus'), ('family', 'Labridae'), ('order', 'Perciformes'), ('length', '9'), ('length.measurement', 'TL')])\n",
      "OrderedDict([('species', 'Labropsis_australis'), ('family', 'Labridae'), ('order', 'Perciformes'), ('length', '10.5'), ('length.measurement', 'TL')])\n",
      "OrderedDict([('species', 'Labrus_bergylta'), ('family', 'Labridae'), ('order', 'Perciformes'), ('length', '65.9'), ('length.measurement', 'TL')])\n",
      "OrderedDict([('species', 'Labrus_merula'), ('family', 'Labridae'), ('order', 'Perciformes'), ('length', '45'), ('length.measurement', 'SL')])\n",
      "OrderedDict([('species', 'Labrus_mixtus'), ('family', 'Labridae'), ('order', 'Perciformes'), ('length', '40'), ('length.measurement', 'SL')])\n",
      "OrderedDict([('species', 'Lachnolaimus_maximus'), ('family', 'Labridae'), ('order', 'Perciformes'), ('length', '91'), ('length.measurement', 'TL')])\n",
      "OrderedDict([('species', 'Lappanella_fasciata'), ('family', 'Labridae'), ('order', 'Perciformes'), ('length', '15'), ('length.measurement', 'SL')])\n",
      "OrderedDict([('species', 'Larabicus_quadrilineatus'), ('family', 'Labridae'), ('order', 'Perciformes'), ('length', '11.5'), ('length.measurement', 'TL')])\n",
      "OrderedDict([('species', 'Leptojulis_cyanopleura'), ('family', 'Labridae'), ('order', 'Perciformes'), ('length', '13'), ('length.measurement', 'TL')])\n",
      "OrderedDict([('species', 'Macropharyngodon_bipartitus_bipartitus'), ('family', 'Labridae'), ('order', 'Perciformes'), ('length', '13'), ('length.measurement', 'TL')])\n",
      "OrderedDict([('species', 'Macropharyngodon_choati'), ('family', 'Labridae'), ('order', 'Perciformes'), ('length', '7.6'), ('length.measurement', 'SL')])\n",
      "OrderedDict([('species', 'Macropharyngodon_cyanoguttatus'), ('family', 'Labridae'), ('order', 'Perciformes'), ('length', '11.5'), ('length.measurement', 'TL')])\n",
      "OrderedDict([('species', 'Macropharyngodon_geoffroy'), ('family', 'Labridae'), ('order', 'Perciformes'), ('length', '15'), ('length.measurement', 'TL')])\n",
      "OrderedDict([('species', 'Macropharyngodon_kuiteri'), ('family', 'Labridae'), ('order', 'Perciformes'), ('length', '10'), ('length.measurement', 'TL')])\n",
      "OrderedDict([('species', 'Macropharyngodon_meleagris'), ('family', 'Labridae'), ('order', 'Perciformes'), ('length', '15'), ('length.measurement', 'SL')])\n",
      "OrderedDict([('species', 'Macropharyngodon_negrosensis'), ('family', 'Labridae'), ('order', 'Perciformes'), ('length', '12'), ('length.measurement', 'TL')])\n",
      "OrderedDict([('species', 'Macropharyngodon_ornatus'), ('family', 'Labridae'), ('order', 'Perciformes'), ('length', '13'), ('length.measurement', 'TL')])\n",
      "OrderedDict([('species', 'Malapterus_reticulatus'), ('family', 'Labridae'), ('order', 'Perciformes'), ('length', 'NA'), ('length.measurement', 'NA')])\n",
      "OrderedDict([('species', 'Notolabrus_fucicola'), ('family', 'Labridae'), ('order', 'Perciformes'), ('length', '38'), ('length.measurement', 'TL')])\n",
      "OrderedDict([('species', 'Notolabrus_gymnogenis'), ('family', 'Labridae'), ('order', 'Perciformes'), ('length', '23'), ('length.measurement', 'SL')])\n",
      "OrderedDict([('species', 'Notolabrus_parilus'), ('family', 'Labridae'), ('order', 'Perciformes'), ('length', 'NA'), ('length.measurement', 'NA')])\n",
      "OrderedDict([('species', 'Notolabrus_tetricus'), ('family', 'Labridae'), ('order', 'Perciformes'), ('length', '50'), ('length.measurement', 'TL')])\n",
      "OrderedDict([('species', 'Novaculichthys_macrolepidotus'), ('family', 'Labridae'), ('order', 'Perciformes'), ('length', '15'), ('length.measurement', 'TL')])\n",
      "OrderedDict([('species', 'Novaculichthys_taeniourus'), ('family', 'Labridae'), ('order', 'Perciformes'), ('length', '30'), ('length.measurement', 'TL')])\n",
      "OrderedDict([('species', 'Ophthalmolepis_lineolata'), ('family', 'Labridae'), ('order', 'Perciformes'), ('length', '40'), ('length.measurement', 'TL')])\n",
      "OrderedDict([('species', 'Oxycheilinus_bimaculatus'), ('family', 'Labridae'), ('order', 'Perciformes'), ('length', '15'), ('length.measurement', 'TL')])\n",
      "OrderedDict([('species', 'Oxycheilinus_celebicus'), ('family', 'Labridae'), ('order', 'Perciformes'), ('length', '24'), ('length.measurement', 'TL')])\n",
      "OrderedDict([('species', 'Oxycheilinus_digramma'), ('family', 'Labridae'), ('order', 'Perciformes'), ('length', '40'), ('length.measurement', 'SL')])\n",
      "OrderedDict([('species', 'Oxycheilinus_unifasciatus'), ('family', 'Labridae'), ('order', 'Perciformes'), ('length', '46'), ('length.measurement', 'TL')])\n",
      "OrderedDict([('species', 'Oxyjulis_californica'), ('family', 'Labridae'), ('order', 'Perciformes'), ('length', '25'), ('length.measurement', 'TL')])\n",
      "OrderedDict([('species', 'Pictilabrus_laticlavius'), ('family', 'Labridae'), ('order', 'Perciformes'), ('length', '23'), ('length.measurement', 'SL')])\n",
      "OrderedDict([('species', 'Pseudocheilinus_octotaenia'), ('family', 'Labridae'), ('order', 'Perciformes'), ('length', '14'), ('length.measurement', 'SL')])\n",
      "OrderedDict([('species', 'Pseudocoris_heteroptera'), ('family', 'Labridae'), ('order', 'Perciformes'), ('length', '20'), ('length.measurement', 'TL')])\n",
      "OrderedDict([('species', 'Pseudocoris_yamashiroi'), ('family', 'Labridae'), ('order', 'Perciformes'), ('length', '16'), ('length.measurement', 'TL')])\n",
      "OrderedDict([('species', 'Pseudodax_moluccanus'), ('family', 'Labridae'), ('order', 'Perciformes'), ('length', '30'), ('length.measurement', 'TL')])\n",
      "OrderedDict([('species', 'Pseudojuloides_atavai'), ('family', 'Labridae'), ('order', 'Perciformes'), ('length', '13'), ('length.measurement', 'TL')])\n",
      "OrderedDict([('species', 'Pseudojuloides_cerasinus'), ('family', 'Labridae'), ('order', 'Perciformes'), ('length', '12.3'), ('length.measurement', 'TL')])\n",
      "OrderedDict([('species', 'Pseudolabrus_gayi'), ('family', 'Labridae'), ('order', 'Perciformes'), ('length', '9.7'), ('length.measurement', 'SL')])\n",
      "OrderedDict([('species', 'Pseudolabrus_japonicus'), ('family', 'Labridae'), ('order', 'Perciformes'), ('length', '25'), ('length.measurement', 'TL')])\n",
      "OrderedDict([('species', 'Pteragogus_cryptus'), ('family', 'Labridae'), ('order', 'Perciformes'), ('length', '9.5'), ('length.measurement', 'TL')])\n",
      "OrderedDict([('species', 'Pteragogus_enneacanthus'), ('family', 'Labridae'), ('order', 'Perciformes'), ('length', 'NA'), ('length.measurement', 'NA')])\n",
      "OrderedDict([('species', 'Semicossyphus_darwini'), ('family', 'Labridae'), ('order', 'Perciformes'), ('length', '70'), ('length.measurement', 'TL')])\n",
      "OrderedDict([('species', 'Semicossyphus_pulcher'), ('family', 'Labridae'), ('order', 'Perciformes'), ('length', '91'), ('length.measurement', 'TL')])\n",
      "OrderedDict([('species', 'Stethojulis_albovittata'), ('family', 'Labridae'), ('order', 'Perciformes'), ('length', '14'), ('length.measurement', 'TL')])\n",
      "OrderedDict([('species', 'Stethojulis_balteata'), ('family', 'Labridae'), ('order', 'Perciformes'), ('length', '15'), ('length.measurement', 'TL')])\n",
      "OrderedDict([('species', 'Stethojulis_bandanensis'), ('family', 'Labridae'), ('order', 'Perciformes'), ('length', '15'), ('length.measurement', 'TL')])\n",
      "OrderedDict([('species', 'Stethojulis_trilineata'), ('family', 'Labridae'), ('order', 'Perciformes'), ('length', '15'), ('length.measurement', 'TL')])\n",
      "OrderedDict([('species', 'Suezichthys_gracilis'), ('family', 'Labridae'), ('order', 'Perciformes'), ('length', '16'), ('length.measurement', 'TL')])\n",
      "OrderedDict([('species', 'Symphodus_bailloni'), ('family', 'Labridae'), ('order', 'Perciformes'), ('length', '20'), ('length.measurement', 'SL')])\n",
      "OrderedDict([('species', 'Symphodus_cinereus'), ('family', 'Labridae'), ('order', 'Perciformes'), ('length', '16'), ('length.measurement', 'TL')])\n",
      "OrderedDict([('species', 'Symphodus_doderleini'), ('family', 'Labridae'), ('order', 'Perciformes'), ('length', '10'), ('length.measurement', 'SL')])\n",
      "OrderedDict([('species', 'Symphodus_mediterraneus'), ('family', 'Labridae'), ('order', 'Perciformes'), ('length', '18'), ('length.measurement', 'SL')])\n",
      "OrderedDict([('species', 'Symphodus_melanocercus'), ('family', 'Labridae'), ('order', 'Perciformes'), ('length', '14'), ('length.measurement', 'TL')])\n",
      "OrderedDict([('species', 'Symphodus_melops'), ('family', 'Labridae'), ('order', 'Perciformes'), ('length', '28'), ('length.measurement', 'SL')])\n",
      "OrderedDict([('species', 'Symphodus_ocellatus'), ('family', 'Labridae'), ('order', 'Perciformes'), ('length', '12'), ('length.measurement', 'SL')])\n",
      "OrderedDict([('species', 'Symphodus_roissali'), ('family', 'Labridae'), ('order', 'Perciformes'), ('length', '17'), ('length.measurement', 'SL')])\n",
      "OrderedDict([('species', 'Symphodus_rostratus'), ('family', 'Labridae'), ('order', 'Perciformes'), ('length', '13'), ('length.measurement', 'SL')])\n",
      "OrderedDict([('species', 'Symphodus_tinca'), ('family', 'Labridae'), ('order', 'Perciformes'), ('length', '44'), ('length.measurement', 'SL')])\n",
      "OrderedDict([('species', 'Tautoga_onitis'), ('family', 'Labridae'), ('order', 'Perciformes'), ('length', '91'), ('length.measurement', 'TL')])\n",
      "OrderedDict([('species', 'Tautogolabrus_adspersus'), ('family', 'Labridae'), ('order', 'Perciformes'), ('length', '38'), ('length.measurement', 'TL')])\n",
      "OrderedDict([('species', 'Thalassoma_amblycephalum'), ('family', 'Labridae'), ('order', 'Perciformes'), ('length', '16'), ('length.measurement', 'SL')])\n",
      "OrderedDict([('species', 'Thalassoma_ascensionis'), ('family', 'Labridae'), ('order', 'Perciformes'), ('length', '10'), ('length.measurement', 'SL')])\n",
      "OrderedDict([('species', 'Thalassoma_ballieui'), ('family', 'Labridae'), ('order', 'Perciformes'), ('length', '39.5'), ('length.measurement', 'TL')])\n",
      "OrderedDict([('species', 'Thalassoma_bifasciatum'), ('family', 'Labridae'), ('order', 'Perciformes'), ('length', '25'), ('length.measurement', 'TL')])\n",
      "OrderedDict([('species', 'Thalassoma_cupido'), ('family', 'Labridae'), ('order', 'Perciformes'), ('length', '20'), ('length.measurement', 'TL')])\n",
      "OrderedDict([('species', 'Thalassoma_duperrey'), ('family', 'Labridae'), ('order', 'Perciformes'), ('length', '28'), ('length.measurement', 'TL')])\n",
      "OrderedDict([('species', 'Thalassoma_genivittatum'), ('family', 'Labridae'), ('order', 'Perciformes'), ('length', '20'), ('length.measurement', 'TL')])\n",
      "OrderedDict([('species', 'Thalassoma_hardwicke'), ('family', 'Labridae'), ('order', 'Perciformes'), ('length', '20'), ('length.measurement', 'TL')])\n",
      "OrderedDict([('species', 'Thalassoma_hebraicum'), ('family', 'Labridae'), ('order', 'Perciformes'), ('length', '23'), ('length.measurement', 'TL')])\n",
      "OrderedDict([('species', 'Thalassoma_jansenii'), ('family', 'Labridae'), ('order', 'Perciformes'), ('length', '20'), ('length.measurement', 'TL')])\n",
      "OrderedDict([('species', 'Thalassoma_loxum'), ('family', 'Labridae'), ('order', 'Perciformes'), ('length', '18'), ('length.measurement', 'TL')])\n",
      "OrderedDict([('species', 'Thalassoma_lunare'), ('family', 'Labridae'), ('order', 'Perciformes'), ('length', '25'), ('length.measurement', 'TL')])\n",
      "OrderedDict([('species', 'Thalassoma_lutescens'), ('family', 'Labridae'), ('order', 'Perciformes'), ('length', '30'), ('length.measurement', 'TL')])\n",
      "OrderedDict([('species', 'Thalassoma_newtoni'), ('family', 'Labridae'), ('order', 'Perciformes'), ('length', 'NA'), ('length.measurement', 'NA')])\n",
      "OrderedDict([('species', 'Thalassoma_noronhanum'), ('family', 'Labridae'), ('order', 'Perciformes'), ('length', '13.3'), ('length.measurement', 'SL')])\n",
      "OrderedDict([('species', 'Thalassoma_pavo'), ('family', 'Labridae'), ('order', 'Perciformes'), ('length', '25'), ('length.measurement', 'SL')])\n",
      "OrderedDict([('species', 'Thalassoma_purpureum'), ('family', 'Labridae'), ('order', 'Perciformes'), ('length', '46'), ('length.measurement', 'TL')])\n",
      "OrderedDict([('species', 'Thalassoma_quinquevittatum'), ('family', 'Labridae'), ('order', 'Perciformes'), ('length', '17'), ('length.measurement', 'TL')])\n",
      "OrderedDict([('species', 'Thalassoma_robertsoni'), ('family', 'Labridae'), ('order', 'Perciformes'), ('length', '7.8'), ('length.measurement', 'SL')])\n",
      "OrderedDict([('species', 'Thalassoma_septemfasciatum'), ('family', 'Labridae'), ('order', 'Perciformes'), ('length', '31'), ('length.measurement', 'TL')])\n",
      "OrderedDict([('species', 'Thalassoma_trilobatum'), ('family', 'Labridae'), ('order', 'Perciformes'), ('length', '30'), ('length.measurement', 'TL')])\n",
      "OrderedDict([('species', 'Wetmorella_nigropinnata'), ('family', 'Labridae'), ('order', 'Perciformes'), ('length', '8'), ('length.measurement', 'TL')])\n",
      "OrderedDict([('species', 'Xiphocheilus_typus'), ('family', 'Labridae'), ('order', 'Perciformes'), ('length', '12'), ('length.measurement', 'SL')])\n",
      "OrderedDict([('species', 'Xyrichtys_martinicensis'), ('family', 'Labridae'), ('order', 'Perciformes'), ('length', '15'), ('length.measurement', 'TL')])\n",
      "OrderedDict([('species', 'Xyrichtys_novacula'), ('family', 'Labridae'), ('order', 'Perciformes'), ('length', '38'), ('length.measurement', 'TL')])\n",
      "OrderedDict([('species', 'Xyrichtys_splendens'), ('family', 'Labridae'), ('order', 'Perciformes'), ('length', '17.5'), ('length.measurement', 'TL')])\n"
     ]
    }
   ],
   "source": [
    "#1\n",
    "fam_lab=dict()\n",
    "with open('fishdata.csv') as csvfile:\n",
    "    reader = csv.DictReader(csvfile)\n",
    "    header = reader.fieldnames\n",
    "    for row in reader:\n",
    "        if row['family']=='Labridae':\n",
    "            print(row)\n"
   ]
  },
  {
   "cell_type": "code",
   "execution_count": 60,
   "metadata": {},
   "outputs": [],
   "source": [
    "with open('fishdata.csv') as csvfile:\n",
    "    reader = csv.DictReader(csvfile)\n",
    "    header = reader.fieldnames\n",
    "    with open(\"family_Labr.csv\",\"w\") as fw:\n",
    "        writer = csv.DictWriter(fw,fieldnames=header,delimiter=\",\")\n",
    "        for row in reader:\n",
    "            if row['family']=='Labridae':\n",
    "                writer.writerow(row)"
   ]
  },
  {
   "cell_type": "code",
   "execution_count": 3,
   "metadata": {},
   "outputs": [
    {
     "ename": "TypeError",
     "evalue": "argument 1 must be an iterator",
     "output_type": "error",
     "traceback": [
      "\u001b[0;31m---------------------------------------------------------------------------\u001b[0m",
      "\u001b[0;31mTypeError\u001b[0m                                 Traceback (most recent call last)",
      "\u001b[0;32m<ipython-input-3-939278c857bd>\u001b[0m in \u001b[0;36m<module>\u001b[0;34m\u001b[0m\n\u001b[1;32m      1\u001b[0m \u001b[0mmean\u001b[0m\u001b[0;34m=\u001b[0m\u001b[0;36m0\u001b[0m\u001b[0;34m\u001b[0m\u001b[0;34m\u001b[0m\u001b[0m\n\u001b[1;32m      2\u001b[0m \u001b[0;32mwith\u001b[0m \u001b[0mopen\u001b[0m\u001b[0;34m(\u001b[0m\u001b[0;34m'family_Labr.csv'\u001b[0m\u001b[0;34m)\u001b[0m \u001b[0;32mas\u001b[0m \u001b[0mff\u001b[0m\u001b[0;34m:\u001b[0m\u001b[0;34m\u001b[0m\u001b[0;34m\u001b[0m\u001b[0m\n\u001b[0;32m----> 3\u001b[0;31m     \u001b[0mreader\u001b[0m \u001b[0;34m=\u001b[0m \u001b[0mcsv\u001b[0m\u001b[0;34m.\u001b[0m\u001b[0mDictReader\u001b[0m\u001b[0;34m(\u001b[0m\u001b[0mcsvfile\u001b[0m\u001b[0;34m)\u001b[0m\u001b[0;34m\u001b[0m\u001b[0;34m\u001b[0m\u001b[0m\n\u001b[0m\u001b[1;32m      4\u001b[0m     \u001b[0mheader\u001b[0m \u001b[0;34m=\u001b[0m \u001b[0mreader\u001b[0m\u001b[0;34m.\u001b[0m\u001b[0mfieldnames\u001b[0m\u001b[0;34m\u001b[0m\u001b[0;34m\u001b[0m\u001b[0m\n\u001b[1;32m      5\u001b[0m     \u001b[0;32mfor\u001b[0m \u001b[0mrow\u001b[0m \u001b[0;32min\u001b[0m \u001b[0mreader\u001b[0m\u001b[0;34m:\u001b[0m\u001b[0;34m\u001b[0m\u001b[0;34m\u001b[0m\u001b[0m\n",
      "\u001b[0;32m~/anaconda3/lib/python3.7/csv.py\u001b[0m in \u001b[0;36m__init__\u001b[0;34m(self, f, fieldnames, restkey, restval, dialect, *args, **kwds)\u001b[0m\n\u001b[1;32m     85\u001b[0m         \u001b[0mself\u001b[0m\u001b[0;34m.\u001b[0m\u001b[0mrestkey\u001b[0m \u001b[0;34m=\u001b[0m \u001b[0mrestkey\u001b[0m          \u001b[0;31m# key to catch long rows\u001b[0m\u001b[0;34m\u001b[0m\u001b[0;34m\u001b[0m\u001b[0m\n\u001b[1;32m     86\u001b[0m         \u001b[0mself\u001b[0m\u001b[0;34m.\u001b[0m\u001b[0mrestval\u001b[0m \u001b[0;34m=\u001b[0m \u001b[0mrestval\u001b[0m          \u001b[0;31m# default value for short rows\u001b[0m\u001b[0;34m\u001b[0m\u001b[0;34m\u001b[0m\u001b[0m\n\u001b[0;32m---> 87\u001b[0;31m         \u001b[0mself\u001b[0m\u001b[0;34m.\u001b[0m\u001b[0mreader\u001b[0m \u001b[0;34m=\u001b[0m \u001b[0mreader\u001b[0m\u001b[0;34m(\u001b[0m\u001b[0mf\u001b[0m\u001b[0;34m,\u001b[0m \u001b[0mdialect\u001b[0m\u001b[0;34m,\u001b[0m \u001b[0;34m*\u001b[0m\u001b[0margs\u001b[0m\u001b[0;34m,\u001b[0m \u001b[0;34m**\u001b[0m\u001b[0mkwds\u001b[0m\u001b[0;34m)\u001b[0m\u001b[0;34m\u001b[0m\u001b[0;34m\u001b[0m\u001b[0m\n\u001b[0m\u001b[1;32m     88\u001b[0m         \u001b[0mself\u001b[0m\u001b[0;34m.\u001b[0m\u001b[0mdialect\u001b[0m \u001b[0;34m=\u001b[0m \u001b[0mdialect\u001b[0m\u001b[0;34m\u001b[0m\u001b[0;34m\u001b[0m\u001b[0m\n\u001b[1;32m     89\u001b[0m         \u001b[0mself\u001b[0m\u001b[0;34m.\u001b[0m\u001b[0mline_num\u001b[0m \u001b[0;34m=\u001b[0m \u001b[0;36m0\u001b[0m\u001b[0;34m\u001b[0m\u001b[0;34m\u001b[0m\u001b[0m\n",
      "\u001b[0;31mTypeError\u001b[0m: argument 1 must be an iterator"
     ]
    }
   ],
   "source": [
    "mean=0\n",
    "with open('family_Labr.csv') as ff:\n",
    "    reader = csv.DictReader(csvfile)\n",
    "    header = reader.fieldnames\n",
    "    for row in reader:\n",
    "        mean=np.mean(row['length'])\n",
    "        print(mean)"
   ]
  },
  {
   "cell_type": "code",
   "execution_count": 4,
   "metadata": {},
   "outputs": [
    {
     "name": "stdout",
     "output_type": "stream",
     "text": [
      "[25.0, 62.0, 42.0, 31.0, 22.0, 20.0, 18.0, 12.6, 25.0, 40.0, 43.0, 21.5, 18.0, 18.0, 45.0, 40.0, 17.0, 45.0, 229.0, 50.0, 38.0, 25.6, 30.0, 28.2, 100.0, 8.0, 30.0, 14.0, 120.0, 17.0, 20.0, 50.8, 40.0, 30.0, 25.0, 15.0, 18.0, 20.0, 20.0, 32.3, 10.0, 18.5, 54.0, 30.0, 30.0, 12.0, 23.0, 8.9, 12.0, 35.0, 15.0, 7.7, 17.5, 19.0, 12.0, 30.0, 25.0, 19.3, 18.0, 27.0, 7.0, 14.0, 12.0, 13.0, 18.0, 12.5, 18.0, 13.0, 12.0, 24.0, 12.0, 12.0, 38.0, 14.0, 25.4, 18.0, 12.0, 13.0, 18.5, 20.0, 13.0, 51.0, 19.0, 23.1, 21.4, 20.0, 38.0, 4.7, 18.0, 27.0, 80.0, 90.0, 40.0, 50.0, 24.0, 17.5, 15.0, 14.0, 9.0, 10.5, 65.9, 45.0, 40.0, 91.0, 15.0, 11.5, 13.0, 13.0, 7.6, 11.5, 15.0, 10.0, 15.0, 12.0, 13.0, 38.0, 23.0, 50.0, 15.0, 30.0, 40.0, 15.0, 24.0, 40.0, 46.0, 25.0, 23.0, 14.0, 20.0, 16.0, 30.0, 13.0, 12.3, 9.7, 25.0, 9.5, 70.0, 91.0, 14.0, 15.0, 15.0, 15.0, 16.0, 20.0, 16.0, 10.0, 18.0, 14.0, 28.0, 12.0, 17.0, 13.0, 44.0, 91.0, 38.0, 16.0, 10.0, 39.5, 25.0, 20.0, 28.0, 20.0, 20.0, 23.0, 20.0, 18.0, 25.0, 30.0, 13.3, 25.0, 46.0, 17.0, 7.8, 31.0, 30.0, 8.0, 12.0, 15.0, 38.0, 17.5]\n"
     ]
    }
   ],
   "source": [
    "values = []\n",
    "with open('family_Labr.csv', 'r') as ff:\n",
    "    csv_reader = csv.reader(ff)\n",
    "    for row in csv_reader:\n",
    "        if row[3] != 'NA':\n",
    "            values.append(float(row[3]))\n",
    "            \n",
    "print(values)\n",
    "\n",
    "\n"
   ]
  },
  {
   "cell_type": "code",
   "execution_count": 5,
   "metadata": {},
   "outputs": [
    {
     "name": "stdout",
     "output_type": "stream",
     "text": [
      "OrderedDict([('Acantholabrus_palloni', 'Achoerodus_viridis'), ('Labridae', 'Labridae'), ('Perciformes', 'Perciformes'), ('25', '62'), ('TL', 'TL')])\n",
      "OrderedDict([('Acantholabrus_palloni', 'Anampses_caeruleopunctatus'), ('Labridae', 'Labridae'), ('Perciformes', 'Perciformes'), ('25', '42'), ('TL', 'TL')])\n",
      "OrderedDict([('Acantholabrus_palloni', 'Anampses_geographicus'), ('Labridae', 'Labridae'), ('Perciformes', 'Perciformes'), ('25', '31'), ('TL', 'TL')])\n",
      "OrderedDict([('Acantholabrus_palloni', 'Anampses_meleagrides'), ('Labridae', 'Labridae'), ('Perciformes', 'Perciformes'), ('25', '22'), ('TL', 'TL')])\n",
      "OrderedDict([('Acantholabrus_palloni', 'Anampses_neoguinaicus'), ('Labridae', 'Labridae'), ('Perciformes', 'Perciformes'), ('25', '20'), ('TL', 'SL')])\n",
      "OrderedDict([('Acantholabrus_palloni', 'Anampses_twistii'), ('Labridae', 'Labridae'), ('Perciformes', 'Perciformes'), ('25', '18'), ('TL', 'TL')])\n",
      "OrderedDict([('Acantholabrus_palloni', 'Austrolabrus_maculatus'), ('Labridae', 'Labridae'), ('Perciformes', 'Perciformes'), ('25', '12.6'), ('TL', 'SL')])\n",
      "OrderedDict([('Acantholabrus_palloni', 'Bodianus_mesothorax'), ('Labridae', 'Labridae'), ('Perciformes', 'Perciformes'), ('25', '25'), ('TL', 'TL')])\n",
      "OrderedDict([('Acantholabrus_palloni', 'Bodianus_rufus'), ('Labridae', 'Labridae'), ('Perciformes', 'Perciformes'), ('25', '40'), ('TL', 'TL')])\n",
      "OrderedDict([('Acantholabrus_palloni', 'Bodianus_scrofa'), ('Labridae', 'Labridae'), ('Perciformes', 'Perciformes'), ('25', '43'), ('TL', 'TL')])\n",
      "OrderedDict([('Acantholabrus_palloni', 'Centrolabrus_caeruleus'), ('Labridae', 'Labridae'), ('Perciformes', 'Perciformes'), ('25', '21.5'), ('TL', 'SL')])\n",
      "OrderedDict([('Acantholabrus_palloni', 'Centrolabrus_exoletus'), ('Labridae', 'Labridae'), ('Perciformes', 'Perciformes'), ('25', '18'), ('TL', 'TL')])\n",
      "OrderedDict([('Acantholabrus_palloni', 'Centrolabrus_trutta'), ('Labridae', 'Labridae'), ('Perciformes', 'Perciformes'), ('25', '18'), ('TL', 'TL')])\n",
      "OrderedDict([('Acantholabrus_palloni', 'Cheilinus_chlorourus'), ('Labridae', 'Labridae'), ('Perciformes', 'Perciformes'), ('25', '45'), ('TL', 'TL')])\n",
      "OrderedDict([('Acantholabrus_palloni', 'Cheilinus_fasciatus'), ('Labridae', 'Labridae'), ('Perciformes', 'Perciformes'), ('25', '40'), ('TL', 'SL')])\n",
      "OrderedDict([('Acantholabrus_palloni', 'Cheilinus_oxycephalus'), ('Labridae', 'Labridae'), ('Perciformes', 'Perciformes'), ('25', '17'), ('TL', 'TL')])\n",
      "OrderedDict([('Acantholabrus_palloni', 'Cheilinus_trilobatus'), ('Labridae', 'Labridae'), ('Perciformes', 'Perciformes'), ('25', '45'), ('TL', 'TL')])\n",
      "OrderedDict([('Acantholabrus_palloni', 'Cheilinus_undulatus'), ('Labridae', 'Labridae'), ('Perciformes', 'Perciformes'), ('25', '229'), ('TL', 'SL')])\n",
      "OrderedDict([('Acantholabrus_palloni', 'Cheilio_inermis'), ('Labridae', 'Labridae'), ('Perciformes', 'Perciformes'), ('25', '50'), ('TL', 'SL')])\n",
      "OrderedDict([('Acantholabrus_palloni', 'Choerodon_anchorago'), ('Labridae', 'Labridae'), ('Perciformes', 'Perciformes'), ('25', '38'), ('TL', 'SL')])\n",
      "OrderedDict([('Acantholabrus_palloni', 'Choerodon_azurio'), ('Labridae', 'Labridae'), ('Perciformes', 'Perciformes'), ('25', '25.6'), ('TL', 'SL')])\n",
      "OrderedDict([('Acantholabrus_palloni', 'Choerodon_fasciatus'), ('Labridae', 'Labridae'), ('Perciformes', 'Perciformes'), ('25', '30'), ('TL', 'TL')])\n",
      "OrderedDict([('Acantholabrus_palloni', 'Choerodon_oligacanthus'), ('Labridae', 'Labridae'), ('Perciformes', 'Perciformes'), ('25', '28.2'), ('TL', 'SL')])\n",
      "OrderedDict([('Acantholabrus_palloni', 'Choerodon_schoenleinii'), ('Labridae', 'Labridae'), ('Perciformes', 'Perciformes'), ('25', '100'), ('TL', 'TL')])\n",
      "OrderedDict([('Acantholabrus_palloni', 'Cirrhilabrus_lubbocki'), ('Labridae', 'Labridae'), ('Perciformes', 'Perciformes'), ('25', '8'), ('TL', 'TL')])\n",
      "OrderedDict([('Acantholabrus_palloni', 'Clepticus_parrae'), ('Labridae', 'Labridae'), ('Perciformes', 'Perciformes'), ('25', '30'), ('TL', 'TL')])\n",
      "OrderedDict([('Acantholabrus_palloni', 'Coris_aurilineata'), ('Labridae', 'Labridae'), ('Perciformes', 'Perciformes'), ('25', '14'), ('TL', 'TL')])\n",
      "OrderedDict([('Acantholabrus_palloni', 'Coris_aygula'), ('Labridae', 'Labridae'), ('Perciformes', 'Perciformes'), ('25', '120'), ('TL', 'TL')])\n",
      "OrderedDict([('Acantholabrus_palloni', 'Coris_batuensis'), ('Labridae', 'Labridae'), ('Perciformes', 'Perciformes'), ('25', '17'), ('TL', 'TL')])\n",
      "OrderedDict([('Acantholabrus_palloni', 'Coris_dorsomacula'), ('Labridae', 'Labridae'), ('Perciformes', 'Perciformes'), ('25', '20'), ('TL', 'TL')])\n",
      "OrderedDict([('Acantholabrus_palloni', 'Coris_flavovittata'), ('Labridae', 'Labridae'), ('Perciformes', 'Perciformes'), ('25', '50.8'), ('TL', 'SL')])\n",
      "OrderedDict([('Acantholabrus_palloni', 'Coris_gaimard'), ('Labridae', 'Labridae'), ('Perciformes', 'Perciformes'), ('25', '40'), ('TL', 'TL')])\n",
      "OrderedDict([('Acantholabrus_palloni', 'Coris_julis'), ('Labridae', 'Labridae'), ('Perciformes', 'Perciformes'), ('25', '30'), ('TL', 'SL')])\n",
      "OrderedDict([('Acantholabrus_palloni', 'Coris_picta'), ('Labridae', 'Labridae'), ('Perciformes', 'Perciformes'), ('25', '25'), ('TL', 'TL')])\n",
      "OrderedDict([('Acantholabrus_palloni', 'Coris_pictoides'), ('Labridae', 'Labridae'), ('Perciformes', 'Perciformes'), ('25', '15'), ('TL', 'TL')])\n",
      "OrderedDict([('Acantholabrus_palloni', 'Ctenolabrus_rupestris'), ('Labridae', 'Labridae'), ('Perciformes', 'Perciformes'), ('25', '18'), ('TL', 'TL')])\n",
      "OrderedDict([('Acantholabrus_palloni', 'Cymolutes_praetextatus'), ('Labridae', 'Labridae'), ('Perciformes', 'Perciformes'), ('25', '20'), ('TL', 'SL')])\n",
      "OrderedDict([('Acantholabrus_palloni', 'Cymolutes_torquatus'), ('Labridae', 'Labridae'), ('Perciformes', 'Perciformes'), ('25', '20'), ('TL', 'TL')])\n",
      "OrderedDict([('Acantholabrus_palloni', 'Decodon_melasma'), ('Labridae', 'Labridae'), ('Perciformes', 'Perciformes'), ('25', '32.3'), ('TL', 'TL')])\n",
      "OrderedDict([('Acantholabrus_palloni', 'Diproctacanthus_xanthurus'), ('Labridae', 'Labridae'), ('Perciformes', 'Perciformes'), ('25', '10'), ('TL', 'TL')])\n",
      "OrderedDict([('Acantholabrus_palloni', 'Epibulus_brevis'), ('Labridae', 'Labridae'), ('Perciformes', 'Perciformes'), ('25', '18.5'), ('TL', 'SL')])\n",
      "OrderedDict([('Acantholabrus_palloni', 'Epibulus_insidiator'), ('Labridae', 'Labridae'), ('Perciformes', 'Perciformes'), ('25', '54'), ('TL', 'SL')])\n",
      "OrderedDict([('Acantholabrus_palloni', 'Gomphosus_caeruleus'), ('Labridae', 'Labridae'), ('Perciformes', 'Perciformes'), ('25', '30'), ('TL', 'TL')])\n",
      "OrderedDict([('Acantholabrus_palloni', 'Gomphosus_varius'), ('Labridae', 'Labridae'), ('Perciformes', 'Perciformes'), ('25', '30'), ('TL', 'SL')])\n",
      "OrderedDict([('Acantholabrus_palloni', 'Halichoeres_argus'), ('Labridae', 'Labridae'), ('Perciformes', 'Perciformes'), ('25', '12'), ('TL', 'TL')])\n",
      "OrderedDict([('Acantholabrus_palloni', 'Halichoeres_bathyphilus'), ('Labridae', 'Labridae'), ('Perciformes', 'Perciformes'), ('25', '23'), ('TL', 'TL')])\n",
      "OrderedDict([('Acantholabrus_palloni', 'Halichoeres_binotopsis'), ('Labridae', 'Labridae'), ('Perciformes', 'Perciformes'), ('25', '8.9'), ('TL', 'SL')])\n",
      "OrderedDict([('Acantholabrus_palloni', 'Halichoeres_biocellatus'), ('Labridae', 'Labridae'), ('Perciformes', 'Perciformes'), ('25', '12'), ('TL', 'TL')])\n",
      "OrderedDict([('Acantholabrus_palloni', 'Halichoeres_bivittatus'), ('Labridae', 'Labridae'), ('Perciformes', 'Perciformes'), ('25', '35'), ('TL', 'TL')])\n",
      "OrderedDict([('Acantholabrus_palloni', 'Halichoeres_brasiliensis'), ('Labridae', 'Labridae'), ('Perciformes', 'Perciformes'), ('25', 'NA'), ('TL', 'NA')])\n",
      "OrderedDict([('Acantholabrus_palloni', 'Halichoeres_brownfieldi'), ('Labridae', 'Labridae'), ('Perciformes', 'Perciformes'), ('25', '15'), ('TL', 'TL')])\n",
      "OrderedDict([('Acantholabrus_palloni', 'Halichoeres_burekae'), ('Labridae', 'Labridae'), ('Perciformes', 'Perciformes'), ('25', '7.7'), ('TL', 'SL')])\n",
      "OrderedDict([('Acantholabrus_palloni', 'Halichoeres_chierchiae'), ('Labridae', 'Labridae'), ('Perciformes', 'Perciformes'), ('25', '17.5'), ('TL', 'TL')])\n",
      "OrderedDict([('Acantholabrus_palloni', 'Halichoeres_chloropterus'), ('Labridae', 'Labridae'), ('Perciformes', 'Perciformes'), ('25', '19'), ('TL', 'SL')])\n",
      "OrderedDict([('Acantholabrus_palloni', 'Halichoeres_chrysus'), ('Labridae', 'Labridae'), ('Perciformes', 'Perciformes'), ('25', '12'), ('TL', 'TL')])\n",
      "OrderedDict([('Acantholabrus_palloni', 'Halichoeres_cyanocephalus'), ('Labridae', 'Labridae'), ('Perciformes', 'Perciformes'), ('25', '30'), ('TL', 'TL')])\n",
      "OrderedDict([('Acantholabrus_palloni', 'Halichoeres_dispilus'), ('Labridae', 'Labridae'), ('Perciformes', 'Perciformes'), ('25', '25'), ('TL', 'TL')])\n",
      "OrderedDict([('Acantholabrus_palloni', 'Halichoeres_garnoti'), ('Labridae', 'Labridae'), ('Perciformes', 'Perciformes'), ('25', '19.3'), ('TL', 'TL')])\n",
      "OrderedDict([('Acantholabrus_palloni', 'Halichoeres_hartzfeldii'), ('Labridae', 'Labridae'), ('Perciformes', 'Perciformes'), ('25', '18'), ('TL', 'TL')])\n",
      "OrderedDict([('Acantholabrus_palloni', 'Halichoeres_hortulanus'), ('Labridae', 'Labridae'), ('Perciformes', 'Perciformes'), ('25', '27'), ('TL', 'TL')])\n",
      "OrderedDict([('Acantholabrus_palloni', 'Halichoeres_insularis'), ('Labridae', 'Labridae'), ('Perciformes', 'Perciformes'), ('25', '7'), ('TL', 'TL')])\n",
      "OrderedDict([('Acantholabrus_palloni', 'Halichoeres_lapillus'), ('Labridae', 'Labridae'), ('Perciformes', 'Perciformes'), ('25', '14'), ('TL', 'TL')])\n",
      "OrderedDict([('Acantholabrus_palloni', 'Halichoeres_leucoxanthus'), ('Labridae', 'Labridae'), ('Perciformes', 'Perciformes'), ('25', '12'), ('TL', 'TL')])\n",
      "OrderedDict([('Acantholabrus_palloni', 'Halichoeres_leucurus'), ('Labridae', 'Labridae'), ('Perciformes', 'Perciformes'), ('25', '13'), ('TL', 'TL')])\n",
      "OrderedDict([('Acantholabrus_palloni', 'Halichoeres_maculipinna'), ('Labridae', 'Labridae'), ('Perciformes', 'Perciformes'), ('25', '18'), ('TL', 'TL')])\n",
      "OrderedDict([('Acantholabrus_palloni', 'Halichoeres_margaritaceus'), ('Labridae', 'Labridae'), ('Perciformes', 'Perciformes'), ('25', '12.5'), ('TL', 'SL')])\n",
      "OrderedDict([('Acantholabrus_palloni', 'Halichoeres_marginatus'), ('Labridae', 'Labridae'), ('Perciformes', 'Perciformes'), ('25', '18'), ('TL', 'TL')])\n",
      "OrderedDict([('Acantholabrus_palloni', 'Halichoeres_melanotis'), ('Labridae', 'Labridae'), ('Perciformes', 'Perciformes'), ('25', '13'), ('TL', 'TL')])\n",
      "OrderedDict([('Acantholabrus_palloni', 'Halichoeres_melanurus'), ('Labridae', 'Labridae'), ('Perciformes', 'Perciformes'), ('25', '12'), ('TL', 'TL')])\n",
      "OrderedDict([('Acantholabrus_palloni', 'Halichoeres_melasmapomus'), ('Labridae', 'Labridae'), ('Perciformes', 'Perciformes'), ('25', '24'), ('TL', 'TL')])\n",
      "OrderedDict([('Acantholabrus_palloni', 'Halichoeres_miniatus'), ('Labridae', 'Labridae'), ('Perciformes', 'Perciformes'), ('25', '12'), ('TL', 'TL')])\n",
      "OrderedDict([('Acantholabrus_palloni', 'Halichoeres_nebulosus'), ('Labridae', 'Labridae'), ('Perciformes', 'Perciformes'), ('25', '12'), ('TL', 'TL')])\n",
      "OrderedDict([('Acantholabrus_palloni', 'Halichoeres_nicholsi'), ('Labridae', 'Labridae'), ('Perciformes', 'Perciformes'), ('25', '38'), ('TL', 'TL')])\n",
      "OrderedDict([('Acantholabrus_palloni', 'Halichoeres_nigrescens'), ('Labridae', 'Labridae'), ('Perciformes', 'Perciformes'), ('25', '14'), ('TL', 'TL')])\n",
      "OrderedDict([('Acantholabrus_palloni', 'Halichoeres_notospilus'), ('Labridae', 'Labridae'), ('Perciformes', 'Perciformes'), ('25', '25.4'), ('TL', 'TL')])\n",
      "OrderedDict([('Acantholabrus_palloni', 'Halichoeres_ornatissimus'), ('Labridae', 'Labridae'), ('Perciformes', 'Perciformes'), ('25', '18'), ('TL', 'TL')])\n",
      "OrderedDict([('Acantholabrus_palloni', 'Halichoeres_papilionaceus'), ('Labridae', 'Labridae'), ('Perciformes', 'Perciformes'), ('25', '12'), ('TL', 'TL')])\n",
      "OrderedDict([('Acantholabrus_palloni', 'Halichoeres_pictus'), ('Labridae', 'Labridae'), ('Perciformes', 'Perciformes'), ('25', '13'), ('TL', 'TL')])\n",
      "OrderedDict([('Acantholabrus_palloni', 'Halichoeres_podostigma'), ('Labridae', 'Labridae'), ('Perciformes', 'Perciformes'), ('25', '18.5'), ('TL', 'SL')])\n",
      "OrderedDict([('Acantholabrus_palloni', 'Halichoeres_poeyi'), ('Labridae', 'Labridae'), ('Perciformes', 'Perciformes'), ('25', '20'), ('TL', 'TL')])\n",
      "OrderedDict([('Acantholabrus_palloni', 'Halichoeres_prosopeion'), ('Labridae', 'Labridae'), ('Perciformes', 'Perciformes'), ('25', '13'), ('TL', 'SL')])\n",
      "OrderedDict([('Acantholabrus_palloni', 'Halichoeres_radiatus'), ('Labridae', 'Labridae'), ('Perciformes', 'Perciformes'), ('25', '51'), ('TL', 'TL')])\n",
      "OrderedDict([('Acantholabrus_palloni', 'Halichoeres_richmondi'), ('Labridae', 'Labridae'), ('Perciformes', 'Perciformes'), ('25', '19'), ('TL', 'TL')])\n",
      "OrderedDict([('Acantholabrus_palloni', 'Halichoeres_rubrovirens'), ('Labridae', 'Labridae'), ('Perciformes', 'Perciformes'), ('25', '23.1'), ('TL', 'SL')])\n",
      "OrderedDict([('Acantholabrus_palloni', 'Halichoeres_sazimai'), ('Labridae', 'Labridae'), ('Perciformes', 'Perciformes'), ('25', '21.4'), ('TL', 'SL')])\n",
      "OrderedDict([('Acantholabrus_palloni', 'Halichoeres_scapularis'), ('Labridae', 'Labridae'), ('Perciformes', 'Perciformes'), ('25', '20'), ('TL', 'TL')])\n",
      "OrderedDict([('Acantholabrus_palloni', 'Halichoeres_semicinctus'), ('Labridae', 'Labridae'), ('Perciformes', 'Perciformes'), ('25', '38'), ('TL', 'TL')])\n",
      "OrderedDict([('Acantholabrus_palloni', 'Halichoeres_socialis'), ('Labridae', 'Labridae'), ('Perciformes', 'Perciformes'), ('25', '4.7'), ('TL', 'SL')])\n",
      "OrderedDict([('Acantholabrus_palloni', 'Halichoeres_solorensis'), ('Labridae', 'Labridae'), ('Perciformes', 'Perciformes'), ('25', '18'), ('TL', 'TL')])\n",
      "OrderedDict([('Acantholabrus_palloni', 'Halichoeres_trimaculatus'), ('Labridae', 'Labridae'), ('Perciformes', 'Perciformes'), ('25', '27'), ('TL', 'TL')])\n",
      "OrderedDict([('Acantholabrus_palloni', 'Hemigymnus_fasciatus'), ('Labridae', 'Labridae'), ('Perciformes', 'Perciformes'), ('25', '80'), ('TL', 'TL')])\n",
      "OrderedDict([('Acantholabrus_palloni', 'Hemigymnus_melapterus'), ('Labridae', 'Labridae'), ('Perciformes', 'Perciformes'), ('25', '90'), ('TL', 'TL')])\n",
      "OrderedDict([('Acantholabrus_palloni', 'Hologymnosus_annulatus'), ('Labridae', 'Labridae'), ('Perciformes', 'Perciformes'), ('25', '40'), ('TL', 'TL')])\n",
      "OrderedDict([('Acantholabrus_palloni', 'Hologymnosus_doliatus'), ('Labridae', 'Labridae'), ('Perciformes', 'Perciformes'), ('25', '50'), ('TL', 'TL')])\n",
      "OrderedDict([('Acantholabrus_palloni', 'Iniistius_aneitensis'), ('Labridae', 'Labridae'), ('Perciformes', 'Perciformes'), ('25', '24'), ('TL', 'TL')])\n",
      "OrderedDict([('Acantholabrus_palloni', 'Labrichthys_unilineatus'), ('Labridae', 'Labridae'), ('Perciformes', 'Perciformes'), ('25', '17.5'), ('TL', 'TL')])\n",
      "OrderedDict([('Acantholabrus_palloni', 'Labroides_bicolor'), ('Labridae', 'Labridae'), ('Perciformes', 'Perciformes'), ('25', '15'), ('TL', 'TL')])\n",
      "OrderedDict([('Acantholabrus_palloni', 'Labroides_dimidiatus'), ('Labridae', 'Labridae'), ('Perciformes', 'Perciformes'), ('25', '14'), ('TL', 'TL')])\n",
      "OrderedDict([('Acantholabrus_palloni', 'Labroides_rubrolabiatus'), ('Labridae', 'Labridae'), ('Perciformes', 'Perciformes'), ('25', '9'), ('TL', 'TL')])\n",
      "OrderedDict([('Acantholabrus_palloni', 'Labropsis_australis'), ('Labridae', 'Labridae'), ('Perciformes', 'Perciformes'), ('25', '10.5'), ('TL', 'TL')])\n",
      "OrderedDict([('Acantholabrus_palloni', 'Labrus_bergylta'), ('Labridae', 'Labridae'), ('Perciformes', 'Perciformes'), ('25', '65.9'), ('TL', 'TL')])\n",
      "OrderedDict([('Acantholabrus_palloni', 'Labrus_merula'), ('Labridae', 'Labridae'), ('Perciformes', 'Perciformes'), ('25', '45'), ('TL', 'SL')])\n",
      "OrderedDict([('Acantholabrus_palloni', 'Labrus_mixtus'), ('Labridae', 'Labridae'), ('Perciformes', 'Perciformes'), ('25', '40'), ('TL', 'SL')])\n",
      "OrderedDict([('Acantholabrus_palloni', 'Lachnolaimus_maximus'), ('Labridae', 'Labridae'), ('Perciformes', 'Perciformes'), ('25', '91'), ('TL', 'TL')])\n",
      "OrderedDict([('Acantholabrus_palloni', 'Lappanella_fasciata'), ('Labridae', 'Labridae'), ('Perciformes', 'Perciformes'), ('25', '15'), ('TL', 'SL')])\n",
      "OrderedDict([('Acantholabrus_palloni', 'Larabicus_quadrilineatus'), ('Labridae', 'Labridae'), ('Perciformes', 'Perciformes'), ('25', '11.5'), ('TL', 'TL')])\n",
      "OrderedDict([('Acantholabrus_palloni', 'Leptojulis_cyanopleura'), ('Labridae', 'Labridae'), ('Perciformes', 'Perciformes'), ('25', '13'), ('TL', 'TL')])\n",
      "OrderedDict([('Acantholabrus_palloni', 'Macropharyngodon_bipartitus_bipartitus'), ('Labridae', 'Labridae'), ('Perciformes', 'Perciformes'), ('25', '13'), ('TL', 'TL')])\n",
      "OrderedDict([('Acantholabrus_palloni', 'Macropharyngodon_choati'), ('Labridae', 'Labridae'), ('Perciformes', 'Perciformes'), ('25', '7.6'), ('TL', 'SL')])\n",
      "OrderedDict([('Acantholabrus_palloni', 'Macropharyngodon_cyanoguttatus'), ('Labridae', 'Labridae'), ('Perciformes', 'Perciformes'), ('25', '11.5'), ('TL', 'TL')])\n",
      "OrderedDict([('Acantholabrus_palloni', 'Macropharyngodon_geoffroy'), ('Labridae', 'Labridae'), ('Perciformes', 'Perciformes'), ('25', '15'), ('TL', 'TL')])\n",
      "OrderedDict([('Acantholabrus_palloni', 'Macropharyngodon_kuiteri'), ('Labridae', 'Labridae'), ('Perciformes', 'Perciformes'), ('25', '10'), ('TL', 'TL')])\n",
      "OrderedDict([('Acantholabrus_palloni', 'Macropharyngodon_meleagris'), ('Labridae', 'Labridae'), ('Perciformes', 'Perciformes'), ('25', '15'), ('TL', 'SL')])\n",
      "OrderedDict([('Acantholabrus_palloni', 'Macropharyngodon_negrosensis'), ('Labridae', 'Labridae'), ('Perciformes', 'Perciformes'), ('25', '12'), ('TL', 'TL')])\n",
      "OrderedDict([('Acantholabrus_palloni', 'Macropharyngodon_ornatus'), ('Labridae', 'Labridae'), ('Perciformes', 'Perciformes'), ('25', '13'), ('TL', 'TL')])\n",
      "OrderedDict([('Acantholabrus_palloni', 'Malapterus_reticulatus'), ('Labridae', 'Labridae'), ('Perciformes', 'Perciformes'), ('25', 'NA'), ('TL', 'NA')])\n",
      "OrderedDict([('Acantholabrus_palloni', 'Notolabrus_fucicola'), ('Labridae', 'Labridae'), ('Perciformes', 'Perciformes'), ('25', '38'), ('TL', 'TL')])\n",
      "OrderedDict([('Acantholabrus_palloni', 'Notolabrus_gymnogenis'), ('Labridae', 'Labridae'), ('Perciformes', 'Perciformes'), ('25', '23'), ('TL', 'SL')])\n",
      "OrderedDict([('Acantholabrus_palloni', 'Notolabrus_parilus'), ('Labridae', 'Labridae'), ('Perciformes', 'Perciformes'), ('25', 'NA'), ('TL', 'NA')])\n",
      "OrderedDict([('Acantholabrus_palloni', 'Notolabrus_tetricus'), ('Labridae', 'Labridae'), ('Perciformes', 'Perciformes'), ('25', '50'), ('TL', 'TL')])\n",
      "OrderedDict([('Acantholabrus_palloni', 'Novaculichthys_macrolepidotus'), ('Labridae', 'Labridae'), ('Perciformes', 'Perciformes'), ('25', '15'), ('TL', 'TL')])\n",
      "OrderedDict([('Acantholabrus_palloni', 'Novaculichthys_taeniourus'), ('Labridae', 'Labridae'), ('Perciformes', 'Perciformes'), ('25', '30'), ('TL', 'TL')])\n",
      "OrderedDict([('Acantholabrus_palloni', 'Ophthalmolepis_lineolata'), ('Labridae', 'Labridae'), ('Perciformes', 'Perciformes'), ('25', '40'), ('TL', 'TL')])\n",
      "OrderedDict([('Acantholabrus_palloni', 'Oxycheilinus_bimaculatus'), ('Labridae', 'Labridae'), ('Perciformes', 'Perciformes'), ('25', '15'), ('TL', 'TL')])\n",
      "OrderedDict([('Acantholabrus_palloni', 'Oxycheilinus_celebicus'), ('Labridae', 'Labridae'), ('Perciformes', 'Perciformes'), ('25', '24'), ('TL', 'TL')])\n",
      "OrderedDict([('Acantholabrus_palloni', 'Oxycheilinus_digramma'), ('Labridae', 'Labridae'), ('Perciformes', 'Perciformes'), ('25', '40'), ('TL', 'SL')])\n",
      "OrderedDict([('Acantholabrus_palloni', 'Oxycheilinus_unifasciatus'), ('Labridae', 'Labridae'), ('Perciformes', 'Perciformes'), ('25', '46'), ('TL', 'TL')])\n",
      "OrderedDict([('Acantholabrus_palloni', 'Oxyjulis_californica'), ('Labridae', 'Labridae'), ('Perciformes', 'Perciformes'), ('25', '25'), ('TL', 'TL')])\n",
      "OrderedDict([('Acantholabrus_palloni', 'Pictilabrus_laticlavius'), ('Labridae', 'Labridae'), ('Perciformes', 'Perciformes'), ('25', '23'), ('TL', 'SL')])\n",
      "OrderedDict([('Acantholabrus_palloni', 'Pseudocheilinus_octotaenia'), ('Labridae', 'Labridae'), ('Perciformes', 'Perciformes'), ('25', '14'), ('TL', 'SL')])\n",
      "OrderedDict([('Acantholabrus_palloni', 'Pseudocoris_heteroptera'), ('Labridae', 'Labridae'), ('Perciformes', 'Perciformes'), ('25', '20'), ('TL', 'TL')])\n",
      "OrderedDict([('Acantholabrus_palloni', 'Pseudocoris_yamashiroi'), ('Labridae', 'Labridae'), ('Perciformes', 'Perciformes'), ('25', '16'), ('TL', 'TL')])\n",
      "OrderedDict([('Acantholabrus_palloni', 'Pseudodax_moluccanus'), ('Labridae', 'Labridae'), ('Perciformes', 'Perciformes'), ('25', '30'), ('TL', 'TL')])\n",
      "OrderedDict([('Acantholabrus_palloni', 'Pseudojuloides_atavai'), ('Labridae', 'Labridae'), ('Perciformes', 'Perciformes'), ('25', '13'), ('TL', 'TL')])\n",
      "OrderedDict([('Acantholabrus_palloni', 'Pseudojuloides_cerasinus'), ('Labridae', 'Labridae'), ('Perciformes', 'Perciformes'), ('25', '12.3'), ('TL', 'TL')])\n",
      "OrderedDict([('Acantholabrus_palloni', 'Pseudolabrus_gayi'), ('Labridae', 'Labridae'), ('Perciformes', 'Perciformes'), ('25', '9.7'), ('TL', 'SL')])\n",
      "OrderedDict([('Acantholabrus_palloni', 'Pseudolabrus_japonicus'), ('Labridae', 'Labridae'), ('Perciformes', 'Perciformes'), ('25', '25'), ('TL', 'TL')])\n",
      "OrderedDict([('Acantholabrus_palloni', 'Pteragogus_cryptus'), ('Labridae', 'Labridae'), ('Perciformes', 'Perciformes'), ('25', '9.5'), ('TL', 'TL')])\n",
      "OrderedDict([('Acantholabrus_palloni', 'Pteragogus_enneacanthus'), ('Labridae', 'Labridae'), ('Perciformes', 'Perciformes'), ('25', 'NA'), ('TL', 'NA')])\n",
      "OrderedDict([('Acantholabrus_palloni', 'Semicossyphus_darwini'), ('Labridae', 'Labridae'), ('Perciformes', 'Perciformes'), ('25', '70'), ('TL', 'TL')])\n",
      "OrderedDict([('Acantholabrus_palloni', 'Semicossyphus_pulcher'), ('Labridae', 'Labridae'), ('Perciformes', 'Perciformes'), ('25', '91'), ('TL', 'TL')])\n",
      "OrderedDict([('Acantholabrus_palloni', 'Stethojulis_albovittata'), ('Labridae', 'Labridae'), ('Perciformes', 'Perciformes'), ('25', '14'), ('TL', 'TL')])\n",
      "OrderedDict([('Acantholabrus_palloni', 'Stethojulis_balteata'), ('Labridae', 'Labridae'), ('Perciformes', 'Perciformes'), ('25', '15'), ('TL', 'TL')])\n",
      "OrderedDict([('Acantholabrus_palloni', 'Stethojulis_bandanensis'), ('Labridae', 'Labridae'), ('Perciformes', 'Perciformes'), ('25', '15'), ('TL', 'TL')])\n",
      "OrderedDict([('Acantholabrus_palloni', 'Stethojulis_trilineata'), ('Labridae', 'Labridae'), ('Perciformes', 'Perciformes'), ('25', '15'), ('TL', 'TL')])\n",
      "OrderedDict([('Acantholabrus_palloni', 'Suezichthys_gracilis'), ('Labridae', 'Labridae'), ('Perciformes', 'Perciformes'), ('25', '16'), ('TL', 'TL')])\n",
      "OrderedDict([('Acantholabrus_palloni', 'Symphodus_bailloni'), ('Labridae', 'Labridae'), ('Perciformes', 'Perciformes'), ('25', '20'), ('TL', 'SL')])\n",
      "OrderedDict([('Acantholabrus_palloni', 'Symphodus_cinereus'), ('Labridae', 'Labridae'), ('Perciformes', 'Perciformes'), ('25', '16'), ('TL', 'TL')])\n",
      "OrderedDict([('Acantholabrus_palloni', 'Symphodus_doderleini'), ('Labridae', 'Labridae'), ('Perciformes', 'Perciformes'), ('25', '10'), ('TL', 'SL')])\n",
      "OrderedDict([('Acantholabrus_palloni', 'Symphodus_mediterraneus'), ('Labridae', 'Labridae'), ('Perciformes', 'Perciformes'), ('25', '18'), ('TL', 'SL')])\n",
      "OrderedDict([('Acantholabrus_palloni', 'Symphodus_melanocercus'), ('Labridae', 'Labridae'), ('Perciformes', 'Perciformes'), ('25', '14'), ('TL', 'TL')])\n",
      "OrderedDict([('Acantholabrus_palloni', 'Symphodus_melops'), ('Labridae', 'Labridae'), ('Perciformes', 'Perciformes'), ('25', '28'), ('TL', 'SL')])\n",
      "OrderedDict([('Acantholabrus_palloni', 'Symphodus_ocellatus'), ('Labridae', 'Labridae'), ('Perciformes', 'Perciformes'), ('25', '12'), ('TL', 'SL')])\n",
      "OrderedDict([('Acantholabrus_palloni', 'Symphodus_roissali'), ('Labridae', 'Labridae'), ('Perciformes', 'Perciformes'), ('25', '17'), ('TL', 'SL')])\n",
      "OrderedDict([('Acantholabrus_palloni', 'Symphodus_rostratus'), ('Labridae', 'Labridae'), ('Perciformes', 'Perciformes'), ('25', '13'), ('TL', 'SL')])\n",
      "OrderedDict([('Acantholabrus_palloni', 'Symphodus_tinca'), ('Labridae', 'Labridae'), ('Perciformes', 'Perciformes'), ('25', '44'), ('TL', 'SL')])\n",
      "OrderedDict([('Acantholabrus_palloni', 'Tautoga_onitis'), ('Labridae', 'Labridae'), ('Perciformes', 'Perciformes'), ('25', '91'), ('TL', 'TL')])\n",
      "OrderedDict([('Acantholabrus_palloni', 'Tautogolabrus_adspersus'), ('Labridae', 'Labridae'), ('Perciformes', 'Perciformes'), ('25', '38'), ('TL', 'TL')])\n",
      "OrderedDict([('Acantholabrus_palloni', 'Thalassoma_amblycephalum'), ('Labridae', 'Labridae'), ('Perciformes', 'Perciformes'), ('25', '16'), ('TL', 'SL')])\n",
      "OrderedDict([('Acantholabrus_palloni', 'Thalassoma_ascensionis'), ('Labridae', 'Labridae'), ('Perciformes', 'Perciformes'), ('25', '10'), ('TL', 'SL')])\n",
      "OrderedDict([('Acantholabrus_palloni', 'Thalassoma_ballieui'), ('Labridae', 'Labridae'), ('Perciformes', 'Perciformes'), ('25', '39.5'), ('TL', 'TL')])\n",
      "OrderedDict([('Acantholabrus_palloni', 'Thalassoma_bifasciatum'), ('Labridae', 'Labridae'), ('Perciformes', 'Perciformes'), ('25', '25'), ('TL', 'TL')])\n",
      "OrderedDict([('Acantholabrus_palloni', 'Thalassoma_cupido'), ('Labridae', 'Labridae'), ('Perciformes', 'Perciformes'), ('25', '20'), ('TL', 'TL')])\n",
      "OrderedDict([('Acantholabrus_palloni', 'Thalassoma_duperrey'), ('Labridae', 'Labridae'), ('Perciformes', 'Perciformes'), ('25', '28'), ('TL', 'TL')])\n",
      "OrderedDict([('Acantholabrus_palloni', 'Thalassoma_genivittatum'), ('Labridae', 'Labridae'), ('Perciformes', 'Perciformes'), ('25', '20'), ('TL', 'TL')])\n",
      "OrderedDict([('Acantholabrus_palloni', 'Thalassoma_hardwicke'), ('Labridae', 'Labridae'), ('Perciformes', 'Perciformes'), ('25', '20'), ('TL', 'TL')])\n",
      "OrderedDict([('Acantholabrus_palloni', 'Thalassoma_hebraicum'), ('Labridae', 'Labridae'), ('Perciformes', 'Perciformes'), ('25', '23'), ('TL', 'TL')])\n",
      "OrderedDict([('Acantholabrus_palloni', 'Thalassoma_jansenii'), ('Labridae', 'Labridae'), ('Perciformes', 'Perciformes'), ('25', '20'), ('TL', 'TL')])\n",
      "OrderedDict([('Acantholabrus_palloni', 'Thalassoma_loxum'), ('Labridae', 'Labridae'), ('Perciformes', 'Perciformes'), ('25', '18'), ('TL', 'TL')])\n",
      "OrderedDict([('Acantholabrus_palloni', 'Thalassoma_lunare'), ('Labridae', 'Labridae'), ('Perciformes', 'Perciformes'), ('25', '25'), ('TL', 'TL')])\n",
      "OrderedDict([('Acantholabrus_palloni', 'Thalassoma_lutescens'), ('Labridae', 'Labridae'), ('Perciformes', 'Perciformes'), ('25', '30'), ('TL', 'TL')])\n",
      "OrderedDict([('Acantholabrus_palloni', 'Thalassoma_newtoni'), ('Labridae', 'Labridae'), ('Perciformes', 'Perciformes'), ('25', 'NA'), ('TL', 'NA')])\n",
      "OrderedDict([('Acantholabrus_palloni', 'Thalassoma_noronhanum'), ('Labridae', 'Labridae'), ('Perciformes', 'Perciformes'), ('25', '13.3'), ('TL', 'SL')])\n",
      "OrderedDict([('Acantholabrus_palloni', 'Thalassoma_pavo'), ('Labridae', 'Labridae'), ('Perciformes', 'Perciformes'), ('25', '25'), ('TL', 'SL')])\n",
      "OrderedDict([('Acantholabrus_palloni', 'Thalassoma_purpureum'), ('Labridae', 'Labridae'), ('Perciformes', 'Perciformes'), ('25', '46'), ('TL', 'TL')])\n",
      "OrderedDict([('Acantholabrus_palloni', 'Thalassoma_quinquevittatum'), ('Labridae', 'Labridae'), ('Perciformes', 'Perciformes'), ('25', '17'), ('TL', 'TL')])\n",
      "OrderedDict([('Acantholabrus_palloni', 'Thalassoma_robertsoni'), ('Labridae', 'Labridae'), ('Perciformes', 'Perciformes'), ('25', '7.8'), ('TL', 'SL')])\n",
      "OrderedDict([('Acantholabrus_palloni', 'Thalassoma_septemfasciatum'), ('Labridae', 'Labridae'), ('Perciformes', 'Perciformes'), ('25', '31'), ('TL', 'TL')])\n",
      "OrderedDict([('Acantholabrus_palloni', 'Thalassoma_trilobatum'), ('Labridae', 'Labridae'), ('Perciformes', 'Perciformes'), ('25', '30'), ('TL', 'TL')])\n",
      "OrderedDict([('Acantholabrus_palloni', 'Wetmorella_nigropinnata'), ('Labridae', 'Labridae'), ('Perciformes', 'Perciformes'), ('25', '8'), ('TL', 'TL')])\n",
      "OrderedDict([('Acantholabrus_palloni', 'Xiphocheilus_typus'), ('Labridae', 'Labridae'), ('Perciformes', 'Perciformes'), ('25', '12'), ('TL', 'SL')])\n",
      "OrderedDict([('Acantholabrus_palloni', 'Xyrichtys_martinicensis'), ('Labridae', 'Labridae'), ('Perciformes', 'Perciformes'), ('25', '15'), ('TL', 'TL')])\n",
      "OrderedDict([('Acantholabrus_palloni', 'Xyrichtys_novacula'), ('Labridae', 'Labridae'), ('Perciformes', 'Perciformes'), ('25', '38'), ('TL', 'TL')])\n",
      "OrderedDict([('Acantholabrus_palloni', 'Xyrichtys_splendens'), ('Labridae', 'Labridae'), ('Perciformes', 'Perciformes'), ('25', '17.5'), ('TL', 'TL')])\n",
      "[]\n"
     ]
    }
   ],
   "source": [
    "mean=0\n",
    "values=[]\n",
    "with open('family_Labr.csv') as ff:\n",
    "    reader = csv.DictReader(ff)\n",
    "    for row in reader:\n",
    "        print(row)\n",
    "        #values.append(row[\"length\"])\n",
    "        #mean=np.mean(row[3])\n",
    "    print(values)"
   ]
  },
  {
   "cell_type": "code",
   "execution_count": 6,
   "metadata": {},
   "outputs": [],
   "source": [
    "def wordcount(string):\n",
    "    count=0\n",
    "    for word in string:\n",
    "        count+=1\n",
    "    print(\"This string has {} characters.\".format(count))"
   ]
  },
  {
   "cell_type": "code",
   "execution_count": 7,
   "metadata": {},
   "outputs": [
    {
     "name": "stdout",
     "output_type": "stream",
     "text": [
      "This string has 49 characters.\n"
     ]
    }
   ],
   "source": [
    "wordcount('A chick has just so much time to chip its way out')"
   ]
  },
  {
   "cell_type": "code",
   "execution_count": 92,
   "metadata": {},
   "outputs": [],
   "source": [
    "def wordcount2(string):\n",
    "    count=len(string)\n",
    "    print(\"This string has {} characters.\".format(count))"
   ]
  },
  {
   "cell_type": "code",
   "execution_count": 93,
   "metadata": {},
   "outputs": [
    {
     "name": "stdout",
     "output_type": "stream",
     "text": [
      "This string has 3 characters.\n"
     ]
    }
   ],
   "source": [
    "wordcount2(\"abc\")"
   ]
  },
  {
   "cell_type": "code",
   "execution_count": 8,
   "metadata": {},
   "outputs": [
    {
     "name": "stdout",
     "output_type": "stream",
     "text": [
      "This string has 4 characters.\n"
     ]
    }
   ],
   "source": [
    "mylist=[2,4,\"asd\",\"cat\"]\n",
    "wordcount(mylist)"
   ]
  },
  {
   "cell_type": "code",
   "execution_count": 71,
   "metadata": {},
   "outputs": [],
   "source": [
    "def get_dna(dna):\n",
    "    count=0\n",
    "    AT_percent=0\n",
    "    for dd in dna:\n",
    "        if dd=='A'or dd=='T':\n",
    "            count=count+1\n",
    "        AT_percent=(count/len(dna))*100\n",
    "    return(\"A and T content in the sequence is {}{}\".format(round(AT_percent,2),\"%\")) #rounded to two significant figures\n",
    "#using a return statement helps one perform various operations on the output which is not possible with print"
   ]
  },
  {
   "cell_type": "code",
   "execution_count": 72,
   "metadata": {},
   "outputs": [
    {
     "name": "stdout",
     "output_type": "stream",
     "text": [
      "A and T content in the sequence is 55.56% \n",
      " A and T content in the sequence is 85.71%\n"
     ]
    }
   ],
   "source": [
    "a=get_dna(\"ATGCTTGCA\")\n",
    "b=get_dna(\"AATTGCAATTTTAA\")\n",
    "print(a,\"\\n\",b)"
   ]
  },
  {
   "cell_type": "code",
   "execution_count": 73,
   "metadata": {},
   "outputs": [
    {
     "name": "stdout",
     "output_type": "stream",
     "text": [
      "B is greater\n"
     ]
    }
   ],
   "source": [
    "if a>b:\n",
    "    print(\"A is greater\")\n",
    "else:\n",
    "    print(\"B is greater\")"
   ]
  },
  {
   "cell_type": "code",
   "execution_count": 76,
   "metadata": {},
   "outputs": [],
   "source": [
    "def get_dna(dna):\n",
    "    count=0\n",
    "    AT_percent=0\n",
    "    for dd in dna:\n",
    "        if dd.upper()=='A'or dd.upper()=='T': #setting it to case upper\n",
    "            count=count+1\n",
    "        AT_percent=(count/len(dna))*100\n",
    "    return(\"A and T content in the sequence is {}{}\".format(round(AT_percent,2),\"%\"))"
   ]
  },
  {
   "cell_type": "code",
   "execution_count": 79,
   "metadata": {},
   "outputs": [
    {
     "data": {
      "text/plain": [
       "'A and T content in the sequence is 52.94%'"
      ]
     },
     "execution_count": 79,
     "metadata": {},
     "output_type": "execute_result"
    }
   ],
   "source": [
    "get_dna(\"atgcaattgcatggcct\")"
   ]
  },
  {
   "cell_type": "code",
   "execution_count": 95,
   "metadata": {},
   "outputs": [],
   "source": [
    "#Alternative method where function defines the significant figure:\n",
    "def get_dna2(dna,sigfig=2): #setting default value in case no entry made\n",
    "    dna=dna.upper()\n",
    "    As_dna=dna.count('A') #dna.upper().count('A')\n",
    "    Ts_dna=dna.count('T') #dna.upper().count('T')\n",
    "    at_content=((As_dna+Ts_dna)/len(dna))*100\n",
    "    return(\"A and T content in the sequence is {}{}\".format(round(at_content,sigfig),\"%\"))"
   ]
  },
  {
   "cell_type": "code",
   "execution_count": 97,
   "metadata": {},
   "outputs": [
    {
     "data": {
      "text/plain": [
       "'A and T content in the sequence is 78.57%'"
      ]
     },
     "execution_count": 97,
     "metadata": {},
     "output_type": "execute_result"
    }
   ],
   "source": [
    "get_dna2('ATgcatgaattAAT')"
   ]
  },
  {
   "cell_type": "code",
   "execution_count": 101,
   "metadata": {},
   "outputs": [],
   "source": [
    "def outOfOrder(number,pet):\n",
    "    print(\"I own {} {}s.\".format(number,pet))"
   ]
  },
  {
   "cell_type": "code",
   "execution_count": 104,
   "metadata": {},
   "outputs": [
    {
     "name": "stdout",
     "output_type": "stream",
     "text": [
      "I own 10 dogs.\n",
      "I own dog 10s.\n",
      "I own 10 dogs.\n",
      "I own 10 dogs.\n"
     ]
    }
   ],
   "source": [
    "outOfOrder(10,\"dog\")\n",
    "outOfOrder(\"dog\",10) #undesired output \n",
    "\n",
    "#or just specify the order of inputs:\n",
    "outOfOrder(number=10,pet=\"dog\")\n",
    "outOfOrder(pet=\"dog\",number=10)"
   ]
  },
  {
   "cell_type": "markdown",
   "metadata": {},
   "source": [
    "## Testing functions:\n",
    "`assert` statement is used to check the validity or functioning of the function. "
   ]
  },
  {
   "cell_type": "code",
   "execution_count": 110,
   "metadata": {},
   "outputs": [],
   "source": [
    "def get_dna3(dna):\n",
    "    count=0\n",
    "    AT_percent=0\n",
    "    for dd in dna:\n",
    "        if dd =='N':\n",
    "            del dd\n",
    "        if dd.upper()=='A'or dd.upper()=='T': #setting it to case upper\n",
    "            count=count+1\n",
    "        AT_percent=(count/len(dna))*100\n",
    "    return(\"A and T content in the sequence is {}{}\".format(round(AT_percent,2),\"%\"))"
   ]
  },
  {
   "cell_type": "code",
   "execution_count": 114,
   "metadata": {},
   "outputs": [
    {
     "ename": "ZeroDivisionError",
     "evalue": "float division by zero",
     "output_type": "error",
     "traceback": [
      "\u001b[0;31m---------------------------------------------------------------------------\u001b[0m",
      "\u001b[0;31mZeroDivisionError\u001b[0m                         Traceback (most recent call last)",
      "\u001b[0;32m<ipython-input-114-39a917b8c8ba>\u001b[0m in \u001b[0;36m<module>\u001b[0;34m\u001b[0m\n\u001b[1;32m      4\u001b[0m     \u001b[0my\u001b[0m\u001b[0;34m=\u001b[0m\u001b[0my\u001b[0m\u001b[0;34m/\u001b[0m\u001b[0mz\u001b[0m\u001b[0;34m\u001b[0m\u001b[0;34m\u001b[0m\u001b[0m\n\u001b[1;32m      5\u001b[0m     \u001b[0;32mreturn\u001b[0m\u001b[0;34m(\u001b[0m\u001b[0my\u001b[0m\u001b[0;34m)\u001b[0m\u001b[0;34m\u001b[0m\u001b[0;34m\u001b[0m\u001b[0m\n\u001b[0;32m----> 6\u001b[0;31m \u001b[0mcreateabug\u001b[0m\u001b[0;34m(\u001b[0m\u001b[0;36m5\u001b[0m\u001b[0;34m)\u001b[0m\u001b[0;34m\u001b[0m\u001b[0;34m\u001b[0m\u001b[0m\n\u001b[0m",
      "\u001b[0;32m<ipython-input-114-39a917b8c8ba>\u001b[0m in \u001b[0;36mcreateabug\u001b[0;34m(x)\u001b[0m\n\u001b[1;32m      2\u001b[0m     \u001b[0my\u001b[0m\u001b[0;34m=\u001b[0m\u001b[0mx\u001b[0m\u001b[0;34m**\u001b[0m\u001b[0;36m4\u001b[0m\u001b[0;34m\u001b[0m\u001b[0;34m\u001b[0m\u001b[0m\n\u001b[1;32m      3\u001b[0m     \u001b[0mz\u001b[0m\u001b[0;34m=\u001b[0m\u001b[0;36m0.\u001b[0m\u001b[0;34m\u001b[0m\u001b[0;34m\u001b[0m\u001b[0m\n\u001b[0;32m----> 4\u001b[0;31m     \u001b[0my\u001b[0m\u001b[0;34m=\u001b[0m\u001b[0my\u001b[0m\u001b[0;34m/\u001b[0m\u001b[0mz\u001b[0m\u001b[0;34m\u001b[0m\u001b[0;34m\u001b[0m\u001b[0m\n\u001b[0m\u001b[1;32m      5\u001b[0m     \u001b[0;32mreturn\u001b[0m\u001b[0;34m(\u001b[0m\u001b[0my\u001b[0m\u001b[0;34m)\u001b[0m\u001b[0;34m\u001b[0m\u001b[0;34m\u001b[0m\u001b[0m\n\u001b[1;32m      6\u001b[0m \u001b[0mcreateabug\u001b[0m\u001b[0;34m(\u001b[0m\u001b[0;36m5\u001b[0m\u001b[0;34m)\u001b[0m\u001b[0;34m\u001b[0m\u001b[0;34m\u001b[0m\u001b[0m\n",
      "\u001b[0;31mZeroDivisionError\u001b[0m: float division by zero"
     ]
    }
   ],
   "source": [
    "def createabug(x):\n",
    "    y=x**4\n",
    "    z=0.\n",
    "    y=y/z\n",
    "    return(y)\n",
    "createabug(5)"
   ]
  },
  {
   "cell_type": "code",
   "execution_count": 115,
   "metadata": {},
   "outputs": [
    {
     "ename": "ZeroDivisionError",
     "evalue": "float division by zero",
     "output_type": "error",
     "traceback": [
      "\u001b[0;31m---------------------------------------------------------------------------\u001b[0m",
      "\u001b[0;31mZeroDivisionError\u001b[0m                         Traceback (most recent call last)",
      "\u001b[0;32m~/Developer/Repos/eeb-c177-homework/class_exercises_1-14-2020/Week7_CW/debugme.py\u001b[0m in \u001b[0;36m<module>\u001b[0;34m\u001b[0m\n\u001b[1;32m      5\u001b[0m     \u001b[0;32mreturn\u001b[0m\u001b[0;34m(\u001b[0m\u001b[0my\u001b[0m\u001b[0;34m)\u001b[0m\u001b[0;34m\u001b[0m\u001b[0;34m\u001b[0m\u001b[0m\n\u001b[1;32m      6\u001b[0m \u001b[0;34m\u001b[0m\u001b[0m\n\u001b[0;32m----> 7\u001b[0;31m \u001b[0mcreateabug\u001b[0m\u001b[0;34m(\u001b[0m\u001b[0;36m5\u001b[0m\u001b[0;34m)\u001b[0m\u001b[0;34m\u001b[0m\u001b[0;34m\u001b[0m\u001b[0m\n\u001b[0m",
      "\u001b[0;32m~/Developer/Repos/eeb-c177-homework/class_exercises_1-14-2020/Week7_CW/debugme.py\u001b[0m in \u001b[0;36mcreateabug\u001b[0;34m(x)\u001b[0m\n\u001b[1;32m      2\u001b[0m     \u001b[0my\u001b[0m\u001b[0;34m=\u001b[0m\u001b[0mx\u001b[0m\u001b[0;34m**\u001b[0m\u001b[0;36m4\u001b[0m\u001b[0;34m\u001b[0m\u001b[0;34m\u001b[0m\u001b[0m\n\u001b[1;32m      3\u001b[0m     \u001b[0mz\u001b[0m\u001b[0;34m=\u001b[0m\u001b[0;36m0.\u001b[0m\u001b[0;34m\u001b[0m\u001b[0;34m\u001b[0m\u001b[0m\n\u001b[0;32m----> 4\u001b[0;31m     \u001b[0my\u001b[0m\u001b[0;34m=\u001b[0m\u001b[0my\u001b[0m\u001b[0;34m/\u001b[0m\u001b[0mz\u001b[0m\u001b[0;34m\u001b[0m\u001b[0;34m\u001b[0m\u001b[0m\n\u001b[0m\u001b[1;32m      5\u001b[0m     \u001b[0;32mreturn\u001b[0m\u001b[0;34m(\u001b[0m\u001b[0my\u001b[0m\u001b[0;34m)\u001b[0m\u001b[0;34m\u001b[0m\u001b[0;34m\u001b[0m\u001b[0m\n\u001b[1;32m      6\u001b[0m \u001b[0;34m\u001b[0m\u001b[0m\n",
      "\u001b[0;31mZeroDivisionError\u001b[0m: float division by zero"
     ]
    }
   ],
   "source": [
    "run debugme.py"
   ]
  },
  {
   "cell_type": "code",
   "execution_count": null,
   "metadata": {},
   "outputs": [],
   "source": []
  }
 ],
 "metadata": {
  "kernelspec": {
   "display_name": "Python 3",
   "language": "python",
   "name": "python3"
  },
  "language_info": {
   "codemirror_mode": {
    "name": "ipython",
    "version": 3
   },
   "file_extension": ".py",
   "mimetype": "text/x-python",
   "name": "python",
   "nbconvert_exporter": "python",
   "pygments_lexer": "ipython3",
   "version": "3.7.5"
  }
 },
 "nbformat": 4,
 "nbformat_minor": 2
}
