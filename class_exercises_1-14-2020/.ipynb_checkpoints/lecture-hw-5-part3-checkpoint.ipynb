{
 "cells": [
  {
   "cell_type": "markdown",
   "metadata": {},
   "source": [
    "## Python Dictionary: \n",
    "1. Written within curly brackets with a colon (:).\n",
    "2. Can contain any characters in combination.\n",
    "3. **Keys** are on the *left* of the colon while **values** are what on the *right* side of the colon.  \n",
    "\n",
    "\n",
    "### 1. Write a Python script to sort (ascending and descending) a dictionary by value."
   ]
  },
  {
   "cell_type": "code",
   "execution_count": 11,
   "metadata": {},
   "outputs": [
    {
     "name": "stdout",
     "output_type": "stream",
     "text": [
      "Names and Heights of students in class {'Tom': 174.5, 'Bryan': 165.8, 'Liz': 160.7, 'Jack': 158.5}\n",
      "\n",
      "Sorted names in the class are: ['Bryan', 'Jack', 'Liz', 'Tom']\n",
      "\n",
      "Sorted names in reverse order: ['Tom', 'Liz', 'Jack', 'Bryan']\n",
      "\n",
      "Sorted heights in the class are: [158.5, 160.7, 165.8, 174.5]\n",
      "\n",
      "Sorted heights in the reverse order: [174.5, 165.8, 160.7, 158.5]\n"
     ]
    }
   ],
   "source": [
    "#Sorting the keys having alphabets(names), in the alphabetical order:\n",
    "\n",
    "Class_hts = {\"Tom\":174.5,\"Bryan\":165.8,\"Liz\":160.7,\"Jack\":158.5}\n",
    "print(\"Names and Heights of students in class\",Class_hts)\n",
    "sorted_names= sorted(Class_hts)\n",
    "Reverse_sorted_names=sorted(Class_hts,reverse=True)\n",
    "print(\"\\nSorted names in the class are:\",sorted_names)\n",
    "print(\"\\nSorted names in reverse order:\",Reverse_sorted_names)\n",
    "\n",
    "#Sorting the numbers(ages) in a dictionary:\n",
    "\n",
    "sorted_hts=sorted(Class_hts.values())#values sorts in an ascending order of the values\n",
    "Reverse_sorted_hts=sorted(Class_hts.values(),reverse=True)\n",
    "print(\"\\nSorted heights in the class are:\",sorted_hts) \n",
    "print(\"\\nSorted heights in the reverse order:\",Reverse_sorted_hts)\n"
   ]
  },
  {
   "cell_type": "markdown",
   "metadata": {},
   "source": [
    "### 2. Write a Python script to add a key to a dictionary."
   ]
  },
  {
   "cell_type": "code",
   "execution_count": 12,
   "metadata": {},
   "outputs": [
    {
     "name": "stdout",
     "output_type": "stream",
     "text": [
      "Updated class name and heights are:  {'Tom': 174.5, 'Bryan': 165.8, 'Liz': 160.7, 'Jack': 158.5, 'Jimmy': 155.4}\n"
     ]
    }
   ],
   "source": [
    "Class_hts[\"Jimmy\"] = 155.4 #Adds a new key and assigns value to it. \n",
    "print(\"Updated class name and heights are: \",Class_hts)"
   ]
  },
  {
   "cell_type": "markdown",
   "metadata": {},
   "source": [
    "### 3. Write a Python script to concatenate following dictionaries to create a new one.\n",
    "**Sample Dictionary :**\n",
    "\n",
    "dic1={1:10, 2:20}\n",
    "\n",
    "dic2={3:30, 4:40}\n",
    "\n",
    "dic3={5:50,6:60}\n",
    "\n",
    "**Expected Result :** {1: 10, 2: 20, 3: 30, 4: 40, 5: 50, 6: 60}\n",
    "\n",
    "**Solution:**\n",
    "\n",
    "`update()` function is used to join two different dictionaries into one.  "
   ]
  },
  {
   "cell_type": "code",
   "execution_count": 40,
   "metadata": {},
   "outputs": [
    {
     "name": "stdout",
     "output_type": "stream",
     "text": [
      "Concatenated result of 3 different dictionaries: \n",
      "\n",
      " {1: 10, 2: 20, 3: 30, 4: 40, 5: 50, 6: 60}\n"
     ]
    }
   ],
   "source": [
    "dic1={1:10,2:20}\n",
    "\n",
    "dic2={3:30,4:40}\n",
    "\n",
    "dic3={5:50,6:60}\n",
    "\n",
    "dic1.update(dic2)#updates dic1 by adding dic2 elements\n",
    "dic1.update(dic3)#updates and redefines dic1 again by adding dic3 elements\n",
    "\n",
    "\n",
    "print(\"Concatenated result of 3 different dictionaries: \\n\\n\", dic1)"
   ]
  },
  {
   "cell_type": "markdown",
   "metadata": {},
   "source": [
    "### 4. Write a Python script to check whether a given key already exists in a dictionary.\n",
    "\n",
    "\n",
    "`dic.get()` can be used to find a particular key. Alternatively `if-else` conditionality can be used to check the same."
   ]
  },
  {
   "cell_type": "code",
   "execution_count": 47,
   "metadata": {},
   "outputs": [
    {
     "name": "stdout",
     "output_type": "stream",
     "text": [
      "Key Present\n"
     ]
    }
   ],
   "source": [
    "#.get()\n",
    "Class_hts.get(\"Liz\")\n",
    "\n",
    "#Conditionality:\n",
    "if \"Liz\" in Class_hts:\n",
    "    print(\"Key Present\")\n",
    "else:\n",
    "    print(\"Key Absent\")\n",
    "   "
   ]
  },
  {
   "cell_type": "markdown",
   "metadata": {},
   "source": [
    "### 5. Write a Python program to iterate over dictionaries using for loops.\n",
    "\n",
    "`dict_key` and `dict_values` funtions read and extract keys and values from the dictonaries respectively. `for` loop goes through all the elements in the dictionary one by one and keeps printing it everytime the loop completes."
   ]
  },
  {
   "cell_type": "code",
   "execution_count": 48,
   "metadata": {},
   "outputs": [
    {
     "name": "stdout",
     "output_type": "stream",
     "text": [
      "Tom : 174.5\n",
      "Bryan : 165.8\n",
      "Liz : 160.7\n",
      "Jack : 158.5\n",
      "Jimmy : 155.4\n"
     ]
    }
   ],
   "source": [
    "for dict_key, dict_value in Class_hts.items():\n",
    "    print(dict_key,':',dict_value)"
   ]
  },
  {
   "cell_type": "markdown",
   "metadata": {},
   "source": [
    "### 6. Write a Python script to generate and print a dictionary that contains a number (between 1 and n) in the form (x, x*x).\n",
    "\n",
    "\n",
    "Sample Dictionary ( n = 5) :\n",
    "\n",
    "Expected Output : {1: 1, 2: 4, 3: 9, 4: 16, 5: 25}\n",
    "\n",
    "\n",
    "#### I tried to use `update` and define the dictionaries but I kept getting the error. All I could do was to define the list with number followed by its square. \n",
    "\n",
    "**Please explain in the class**"
   ]
  },
  {
   "cell_type": "code",
   "execution_count": 111,
   "metadata": {},
   "outputs": [
    {
     "name": "stdout",
     "output_type": "stream",
     "text": [
      "[1, 1, 2, 4, 3, 9, 4, 16, 5, 25]\n"
     ]
    }
   ],
   "source": [
    "n=5\n",
    "d = []\n",
    "\n",
    "for ii in range (1,n+1):\n",
    "    d.append(ii)\n",
    "    ii=ii*ii\n",
    "    d.append(ii)\n",
    "\n",
    "print (d)"
   ]
  },
  {
   "cell_type": "markdown",
   "metadata": {},
   "source": [
    "### Note: Question 7,8,9 are same as 6,5,4 above. "
   ]
  },
  {
   "cell_type": "markdown",
   "metadata": {},
   "source": [
    "### 10. Write a Python program to sum all the items in a dictionary."
   ]
  },
  {
   "cell_type": "code",
   "execution_count": 128,
   "metadata": {},
   "outputs": [
    {
     "name": "stdout",
     "output_type": "stream",
     "text": [
      "dict_values([174.5, 165.8, 160.7, 158.5, 155.4])\n"
     ]
    }
   ],
   "source": [
    "import numpy as np\n",
    "print(np.sum(Class_hts.values()))"
   ]
  },
  {
   "cell_type": "code",
   "execution_count": 123,
   "metadata": {},
   "outputs": [
    {
     "ename": "TypeError",
     "evalue": "'dict_values' object is not callable",
     "output_type": "error",
     "traceback": [
      "\u001b[0;31m---------------------------------------------------------------------------\u001b[0m",
      "\u001b[0;31mTypeError\u001b[0m                                 Traceback (most recent call last)",
      "\u001b[0;32m<ipython-input-123-0862cc4a6826>\u001b[0m in \u001b[0;36m<module>\u001b[0;34m\u001b[0m\n\u001b[0;32m----> 1\u001b[0;31m \u001b[0mprint\u001b[0m\u001b[0;34m(\u001b[0m\u001b[0msum\u001b[0m\u001b[0;34m(\u001b[0m\u001b[0mClass_hts\u001b[0m\u001b[0;34m.\u001b[0m\u001b[0mvalues\u001b[0m\u001b[0;34m(\u001b[0m\u001b[0;34m)\u001b[0m\u001b[0;34m)\u001b[0m\u001b[0;34m)\u001b[0m\u001b[0;34m\u001b[0m\u001b[0;34m\u001b[0m\u001b[0m\n\u001b[0m",
      "\u001b[0;31mTypeError\u001b[0m: 'dict_values' object is not callable"
     ]
    }
   ],
   "source": [
    "print(sum(Class_hts.values())) #Error"
   ]
  },
  {
   "cell_type": "code",
   "execution_count": 133,
   "metadata": {},
   "outputs": [
    {
     "name": "stdout",
     "output_type": "stream",
     "text": [
      "174.5\n"
     ]
    },
    {
     "ename": "TypeError",
     "evalue": "'dict_values' object is not callable",
     "output_type": "error",
     "traceback": [
      "\u001b[0;31m---------------------------------------------------------------------------\u001b[0m",
      "\u001b[0;31mTypeError\u001b[0m                                 Traceback (most recent call last)",
      "\u001b[0;32m<ipython-input-133-217f51acf855>\u001b[0m in \u001b[0;36m<module>\u001b[0;34m\u001b[0m\n\u001b[1;32m      1\u001b[0m \u001b[0;32mfor\u001b[0m \u001b[0mdict_key\u001b[0m\u001b[0;34m,\u001b[0m \u001b[0mdict_value\u001b[0m \u001b[0;32min\u001b[0m \u001b[0mClass_hts\u001b[0m\u001b[0;34m.\u001b[0m\u001b[0mitems\u001b[0m\u001b[0;34m(\u001b[0m\u001b[0;34m)\u001b[0m\u001b[0;34m:\u001b[0m\u001b[0;34m\u001b[0m\u001b[0;34m\u001b[0m\u001b[0m\n\u001b[1;32m      2\u001b[0m     \u001b[0mprint\u001b[0m\u001b[0;34m(\u001b[0m\u001b[0mnp\u001b[0m\u001b[0;34m.\u001b[0m\u001b[0msum\u001b[0m\u001b[0;34m(\u001b[0m\u001b[0mdict_value\u001b[0m\u001b[0;34m)\u001b[0m\u001b[0;34m)\u001b[0m\u001b[0;34m\u001b[0m\u001b[0;34m\u001b[0m\u001b[0m\n\u001b[0;32m----> 3\u001b[0;31m     \u001b[0mprint\u001b[0m\u001b[0;34m(\u001b[0m\u001b[0msum\u001b[0m\u001b[0;34m(\u001b[0m\u001b[0mdict_value\u001b[0m\u001b[0;34m)\u001b[0m\u001b[0;34m)\u001b[0m\u001b[0;34m\u001b[0m\u001b[0;34m\u001b[0m\u001b[0m\n\u001b[0m",
      "\u001b[0;31mTypeError\u001b[0m: 'dict_values' object is not callable"
     ]
    }
   ],
   "source": [
    "for dict_key, dict_value in Class_hts.items():\n",
    "    print(np.sum(dict_value)) #Gives only the value list\n",
    "    print(sum(dict_value)) #Gives error"
   ]
  },
  {
   "cell_type": "code",
   "execution_count": 151,
   "metadata": {},
   "outputs": [
    {
     "name": "stdout",
     "output_type": "stream",
     "text": [
      "[174.5, 165.8, 160.7, 158.5, 155.4]\n",
      "\n",
      "\n",
      " Sum of all values of dictionary:\n",
      " 814.9\n"
     ]
    },
    {
     "ename": "TypeError",
     "evalue": "'dict_values' object is not callable",
     "output_type": "error",
     "traceback": [
      "\u001b[0;31m---------------------------------------------------------------------------\u001b[0m",
      "\u001b[0;31mTypeError\u001b[0m                                 Traceback (most recent call last)",
      "\u001b[0;32m<ipython-input-151-325f6dd2dbbf>\u001b[0m in \u001b[0;36m<module>\u001b[0;34m\u001b[0m\n\u001b[1;32m      8\u001b[0m \u001b[0mprint\u001b[0m\u001b[0;34m(\u001b[0m\u001b[0;34m\"\\n\\n Sum of all values of dictionary:\\n\"\u001b[0m\u001b[0;34m,\u001b[0m \u001b[0mnp\u001b[0m\u001b[0;34m.\u001b[0m\u001b[0msum\u001b[0m\u001b[0;34m(\u001b[0m\u001b[0md_val\u001b[0m\u001b[0;34m)\u001b[0m\u001b[0;34m)\u001b[0m \u001b[0;31m#Finally worked!\u001b[0m\u001b[0;34m\u001b[0m\u001b[0;34m\u001b[0m\u001b[0m\n\u001b[1;32m      9\u001b[0m \u001b[0;34m\u001b[0m\u001b[0m\n\u001b[0;32m---> 10\u001b[0;31m \u001b[0mprint\u001b[0m\u001b[0;34m(\u001b[0m\u001b[0;34m\"\\n\\n Sum of all values of dictionary:\\n\"\u001b[0m\u001b[0;34m,\u001b[0m \u001b[0msum\u001b[0m\u001b[0;34m(\u001b[0m\u001b[0md_val\u001b[0m\u001b[0;34m)\u001b[0m\u001b[0;34m)\u001b[0m\u001b[0;34m\u001b[0m\u001b[0;34m\u001b[0m\u001b[0m\n\u001b[0m",
      "\u001b[0;31mTypeError\u001b[0m: 'dict_values' object is not callable"
     ]
    }
   ],
   "source": [
    "d_val=[]\n",
    "for dict_key, dict_value in Class_hts.items():\n",
    "    d_val.append(dict_value) #converted into a list as the error did not let me \n",
    "                                               #perform the sum function upon the dictionary values.\n",
    "\n",
    "print(d_val)\n",
    "\n",
    "print(\"\\n\\n Sum of all values of dictionary:\\n\", np.sum(d_val)) #Finally worked!\n",
    "\n",
    "print(\"\\n\\n Sum of all values of dictionary:\\n\", sum(d_val)) #This function still gave errors "
   ]
  },
  {
   "cell_type": "markdown",
   "metadata": {},
   "source": [
    "### Follwing was the error:\n",
    "\n",
    "\n",
    "---------------------------------------------------------------------------\n",
    "TypeError                                 Traceback (most recent call last)\n",
    "\n",
    "<ipython-input-151-325f6dd2dbbf> in <module>\n",
    "    \n",
    "\n",
    "---> 10 print(\"\\n\\n Sum of all values of dictionary:\\n\", sum(d_val))\n",
    "    \n",
    "\n",
    "**TypeError: 'dict_values' object is not callable**"
   ]
  },
  {
   "cell_type": "code",
   "execution_count": null,
   "metadata": {},
   "outputs": [],
   "source": []
  }
 ],
 "metadata": {
  "kernelspec": {
   "display_name": "Python 3",
   "language": "python",
   "name": "python3"
  },
  "language_info": {
   "codemirror_mode": {
    "name": "ipython",
    "version": 3
   },
   "file_extension": ".py",
   "mimetype": "text/x-python",
   "name": "python",
   "nbconvert_exporter": "python",
   "pygments_lexer": "ipython3",
   "version": "3.7.5"
  }
 },
 "nbformat": 4,
 "nbformat_minor": 2
}
